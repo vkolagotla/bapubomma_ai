{
 "cells": [
  {
   "cell_type": "code",
   "execution_count": 1,
   "metadata": {},
   "outputs": [
    {
     "name": "stdout",
     "output_type": "stream",
     "text": [
      "Defaulting to user installation because normal site-packages is not writeable\n",
      "Collecting replicate\n",
      "  Using cached replicate-0.21.1-py3-none-any.whl (35 kB)\n",
      "Collecting pydantic>1\n",
      "  Using cached pydantic-2.5.2-py3-none-any.whl (381 kB)\n",
      "Requirement already satisfied: typing-extensions>=4.5.0 in /home/devs/.local/lib/python3.10/site-packages (from replicate) (4.8.0)\n",
      "Collecting httpx<1,>=0.21.0\n",
      "  Using cached httpx-0.25.2-py3-none-any.whl (74 kB)\n",
      "Requirement already satisfied: packaging in /usr/lib/python3/dist-packages (from replicate) (21.3)\n",
      "Collecting sniffio\n",
      "  Downloading sniffio-1.3.0-py3-none-any.whl (10 kB)\n",
      "Collecting httpcore==1.*\n",
      "  Using cached httpcore-1.0.2-py3-none-any.whl (76 kB)\n",
      "Requirement already satisfied: idna in /usr/lib/python3/dist-packages (from httpx<1,>=0.21.0->replicate) (3.3)\n",
      "Collecting anyio\n",
      "  Downloading anyio-4.1.0-py3-none-any.whl (83 kB)\n",
      "\u001b[2K     \u001b[38;2;114;156;31m━━━━━━━━━━━━━━━━━━━━━━━━━━━━━━━━━━━━━━━\u001b[0m \u001b[32m83.9/83.9 KB\u001b[0m \u001b[31m170.6 kB/s\u001b[0m eta \u001b[36m0:00:00\u001b[0m kB/s\u001b[0m eta \u001b[36m0:00:01\u001b[0m:01\u001b[0m\n",
      "\u001b[?25hRequirement already satisfied: certifi in /usr/lib/python3/dist-packages (from httpx<1,>=0.21.0->replicate) (2020.6.20)\n",
      "Collecting h11<0.15,>=0.13\n",
      "  Using cached h11-0.14.0-py3-none-any.whl (58 kB)\n",
      "Collecting annotated-types>=0.4.0\n",
      "  Using cached annotated_types-0.6.0-py3-none-any.whl (12 kB)\n",
      "Collecting pydantic-core==2.14.5\n",
      "  Downloading pydantic_core-2.14.5-cp310-cp310-manylinux_2_17_x86_64.manylinux2014_x86_64.whl (2.1 MB)\n",
      "\u001b[2K     \u001b[38;2;114;156;31m━━━━━━━━━━━━━━━━━━━━━━━━━━━━━━━━━━━━━━━━\u001b[0m \u001b[32m2.1/2.1 MB\u001b[0m \u001b[31m2.2 MB/s\u001b[0m eta \u001b[36m0:00:00\u001b[0mm eta \u001b[36m0:00:01\u001b[0m0:01\u001b[0m:01\u001b[0m0m\n",
      "\u001b[?25hRequirement already satisfied: exceptiongroup>=1.0.2 in /home/devs/.local/lib/python3.10/site-packages (from anyio->httpx<1,>=0.21.0->replicate) (1.2.0)\n",
      "Installing collected packages: sniffio, pydantic-core, h11, annotated-types, pydantic, httpcore, anyio, httpx, replicate\n",
      "Successfully installed annotated-types-0.6.0 anyio-4.1.0 h11-0.14.0 httpcore-1.0.2 httpx-0.25.2 pydantic-2.5.2 pydantic-core-2.14.5 replicate-0.21.1 sniffio-1.3.0\n"
     ]
    }
   ],
   "source": [
    "!pip install replicate"
   ]
  },
  {
   "cell_type": "code",
   "execution_count": 1,
   "metadata": {},
   "outputs": [],
   "source": [
    "import replicate\n",
    "import os"
   ]
  },
  {
   "cell_type": "code",
   "execution_count": 35,
   "metadata": {},
   "outputs": [],
   "source": [
    "# check if the API set in the current session\n",
    "api_key = os.environ.get(\"REPLICATE_API_TOKEN\")\n",
    "#print(api_key)"
   ]
  },
  {
   "cell_type": "markdown",
   "metadata": {},
   "source": [
    "# Make an API call to train/fine-tune the SDXL model with Bapubomma dataset\n",
    "\n",
    "## use only hanumanthuni kadha dataset for initial train runs to test if the model picksup the style"
   ]
  },
  {
   "cell_type": "code",
   "execution_count": 106,
   "metadata": {},
   "outputs": [],
   "source": [
    "training_ep_10 = replicate.trainings.create(\n",
    "    version=\"stability-ai/sdxl:39ed52f2a78e934b3ba6e2a89f5b1c712de7dfea535525255b1aa35c5565e08b\",\n",
    "    input={\n",
    "        \"input_images\": \"https://vkolagotla.gitlab.io/assets/bapu_ai_train_data_h_kadha.zip\",\n",
    "        \"lora_lr\": 4e-4,\n",
    "        \"epochs\": 10,\n",
    "        \"steps\": 1000,\n",
    "        \"resolution\": 256,\n",
    "        \"token_string\": \"bapubomma\",\n",
    "        \"caption_prefix\": \"Art, illustrations in the style of indian artist bapu, bapubomma\",\n",
    "    },\n",
    "    destination=\"vkolagotla/bapubomma_ai\"\n",
    ")"
   ]
  },
  {
   "cell_type": "code",
   "execution_count": 24,
   "metadata": {},
   "outputs": [
    {
     "name": "stdout",
     "output_type": "stream",
     "text": [
      "processing\n",
      "Image files:  ['./temp_in/img_01.png', './temp_in/img_02.png', './temp_in/img_03.png', './temp_in/img_04.png', './temp_in/img_05.png', './temp_in/img_06.png', './temp_in/img_07.png', './temp_in/img_08.png', './temp_in/img_09.png', './temp_in/img_10.png', './temp_in/img_11.png', './temp_in/img_12.png', './temp_in/img_13.png', './temp_in/img_14.png', './temp_in/img_15.png', './temp_in/img_16.png', './temp_in/img_17.png', './temp_in/img_18.png', './temp_in/img_19.png', './temp_in/img_20.png', './temp_in/img_21.png', './temp_in/img_22.png', './temp_in/img_23.png', './temp_in/img_24.png', './temp_in/img_25.png', './temp_in/img_26.png', './temp_in/img_27.png', './temp_in/img_28.png', './temp_in/img_29.png', './temp_in/img_30.png', './temp_in/img_31.png', './temp_in/img_32.png', './temp_in/img_33.png', './temp_in/img_34.png', './temp_in/img_35.png', './temp_in/img_36.png', './temp_in/img_37.png', './temp_in/img_38.png', './temp_in/img_39.png']\n",
      "Generating 39 captions...\n",
      "downloading url:  https://weights.replicate.delivery/default/blip_large/blip_large.tar\n",
      "downloading to:  ./blip-cache\n",
      "Downloaded 1.9 GB bytes in 1.773s (1.1 GB/s)\n"
     ]
    }
   ],
   "source": [
    "training_ep_10.reload()\n",
    "print(training_ep_10.status)\n",
    "print(\"\\n\".join(training_ep_10.logs.split(\"\\n\")[-25:]))"
   ]
  },
  {
   "cell_type": "code",
   "execution_count": 93,
   "metadata": {},
   "outputs": [],
   "source": [
    "# since the steps are mentioned as 1000, epochs became irralavent so consider this train run as a 1000 step trainig."
   ]
  },
  {
   "cell_type": "code",
   "execution_count": 94,
   "metadata": {},
   "outputs": [],
   "source": [
    "#run predictions for vkolagotla/bapubomma_ai:a20658186167e3890e2aec036cd4de9f10bc3749da20dbebef3e91f052e9e61c\", model"
   ]
  },
  {
   "cell_type": "code",
   "execution_count": 95,
   "metadata": {
    "scrolled": true
   },
   "outputs": [
    {
     "name": "stdout",
     "output_type": "stream",
     "text": [
      "['https://replicate.delivery/pbxt/IH9v7FceLjTUJKVUA6HZLGW91pbLLBkl0fGeNJMrJz2UXhDkA/out-0.png', 'https://replicate.delivery/pbxt/A5VLfl5SKo1WAKRveKSPNYhMYZ8prun0VZomecYZ4eMsuCHIB/out-1.png']\n"
     ]
    }
   ],
   "source": [
    "output = replicate.run(\n",
    "  \"vkolagotla/bapubomma_ai:a20658186167e3890e2aec036cd4de9f10bc3749da20dbebef3e91f052e9e61c\",\n",
    "  input={\n",
    "    \"width\": 256,\n",
    "    \"height\": 256,\n",
    "    \"prompt\": \"Lord Rama and Sita walking in a beautiful south Indian village near godhavari, river, bapubomma, clear faces\",\n",
    "    \"refine\": \"no_refiner\",\n",
    "    \"scheduler\": \"K_EULER\",\n",
    "    \"lora_scale\": 0.79,\n",
    "    \"num_outputs\": 2,\n",
    "    \"guidance_scale\": 7.5,\n",
    "    \"apply_watermark\": False,\n",
    "    \"high_noise_frac\": 0.8,\n",
    "    \"negative_prompt\": \"\",\n",
    "    \"prompt_strength\": 0.8,\n",
    "    \"num_inference_steps\": 50\n",
    "  }\n",
    ")\n",
    "print(output)\n"
   ]
  },
  {
   "cell_type": "code",
   "execution_count": 9,
   "metadata": {},
   "outputs": [
    {
     "name": "stdout",
     "output_type": "stream",
     "text": [
      "<class 'list'>\n"
     ]
    }
   ],
   "source": [
    "print(type(output))"
   ]
  },
  {
   "cell_type": "code",
   "execution_count": 96,
   "metadata": {},
   "outputs": [
    {
     "data": {
      "text/html": [
       "<img src=\"https://replicate.delivery/pbxt/IH9v7FceLjTUJKVUA6HZLGW91pbLLBkl0fGeNJMrJz2UXhDkA/out-0.png\" style=\"width: 200px; margin: 0px; float: left;\" /><img src=\"https://replicate.delivery/pbxt/A5VLfl5SKo1WAKRveKSPNYhMYZ8prun0VZomecYZ4eMsuCHIB/out-1.png\" style=\"width: 200px; margin: 0px; float: left;\" />"
      ],
      "text/plain": [
       "<IPython.core.display.HTML object>"
      ]
     },
     "metadata": {},
     "output_type": "display_data"
    }
   ],
   "source": [
    "# show images next to each for better visibility and understanding\n",
    "from IPython.display import Image, display, HTML\n",
    "# List of image URLs\n",
    "images_list = ''.join([f'<img src=\"{url}\" style=\"width: 200px; margin: 0px; float: left;\" />' for url in output])\n",
    "# Display the images side by side\n",
    "display(HTML(images_list))"
   ]
  },
  {
   "cell_type": "code",
   "execution_count": 97,
   "metadata": {},
   "outputs": [
    {
     "name": "stdout",
     "output_type": "stream",
     "text": [
      "['https://replicate.delivery/pbxt/jtjuToltuMKeE6J5R3L9oYiQE2p7ib1icdqBfD4KfeAsvCHIB/out-0.png', 'https://replicate.delivery/pbxt/YYgEw6bqwtaLBRn7j93A3jP8x1TCGd1XPW01QPL1j3DfV4AJA/out-1.png']\n"
     ]
    },
    {
     "data": {
      "text/html": [
       "<img src=\"https://replicate.delivery/pbxt/jtjuToltuMKeE6J5R3L9oYiQE2p7ib1icdqBfD4KfeAsvCHIB/out-0.png\" style=\"width: 200px; margin: 0px; float: left;\" /><img src=\"https://replicate.delivery/pbxt/YYgEw6bqwtaLBRn7j93A3jP8x1TCGd1XPW01QPL1j3DfV4AJA/out-1.png\" style=\"width: 200px; margin: 0px; float: left;\" />"
      ],
      "text/plain": [
       "<IPython.core.display.HTML object>"
      ]
     },
     "metadata": {},
     "output_type": "display_data"
    }
   ],
   "source": [
    "output = replicate.run(\n",
    "  \"vkolagotla/bapubomma_ai:a20658186167e3890e2aec036cd4de9f10bc3749da20dbebef3e91f052e9e61c\",\n",
    "  input={\n",
    "    \"width\": 256,\n",
    "    \"height\": 256,\n",
    "    \"prompt\": \"2 guys and a dog walking in a beautiful south Indian village near godhavari, coming up towards beautiful mountians, bapubomma, clear faces\",\n",
    "    \"refine\": \"no_refiner\",\n",
    "    \"scheduler\": \"K_EULER\",\n",
    "    \"lora_scale\": 0.79,\n",
    "    \"num_outputs\": 2,\n",
    "    \"guidance_scale\": 7.5,\n",
    "    \"apply_watermark\": False,\n",
    "    \"high_noise_frac\": 0.8,\n",
    "    \"negative_prompt\": \"\",\n",
    "    \"prompt_strength\": 0.8,\n",
    "    \"num_inference_steps\": 50\n",
    "  }\n",
    ")\n",
    "print(output)\n",
    "# List of image URLs\n",
    "images_list = ''.join([f'<img src=\"{url}\" style=\"width: 200px; margin: 0px; float: left;\" />' for url in output])\n",
    "# Display the images side by side\n",
    "display(HTML(images_list))"
   ]
  },
  {
   "cell_type": "code",
   "execution_count": 98,
   "metadata": {},
   "outputs": [
    {
     "name": "stdout",
     "output_type": "stream",
     "text": [
      "['https://replicate.delivery/pbxt/fHYCxdrCTv3TcCry0o0UlRmuIhUJfCala7y7pA0IPpDGswBSA/out-0.png', 'https://replicate.delivery/pbxt/XIM09nPgflw7ESsdpviPoW1wDAFd6ivbCGgC6rj2oPxDW4AJA/out-1.png']\n"
     ]
    },
    {
     "data": {
      "text/html": [
       "<img src=\"https://replicate.delivery/pbxt/fHYCxdrCTv3TcCry0o0UlRmuIhUJfCala7y7pA0IPpDGswBSA/out-0.png\" style=\"width: 200px; margin: 0px; float: left;\" /><img src=\"https://replicate.delivery/pbxt/XIM09nPgflw7ESsdpviPoW1wDAFd6ivbCGgC6rj2oPxDW4AJA/out-1.png\" style=\"width: 200px; margin: 0px; float: left;\" />"
      ],
      "text/plain": [
       "<IPython.core.display.HTML object>"
      ]
     },
     "metadata": {},
     "output_type": "display_data"
    }
   ],
   "source": [
    "output = replicate.run(\n",
    "  \"vkolagotla/bapubomma_ai:a20658186167e3890e2aec036cd4de9f10bc3749da20dbebef3e91f052e9e61c\",\n",
    "  input={\n",
    "    \"width\": 256,\n",
    "    \"height\": 256,\n",
    "    \"prompt\": \"2 guys and a dog walking in a beautiful south Indian village near godhavari, coming up towards beautiful mountians, clear faces\",\n",
    "    \"refine\": \"no_refiner\",\n",
    "    \"scheduler\": \"K_EULER\",\n",
    "    \"lora_scale\": 0.79,\n",
    "    \"num_outputs\": 2,\n",
    "    \"guidance_scale\": 7.5,\n",
    "    \"apply_watermark\": False,\n",
    "    \"high_noise_frac\": 0.8,\n",
    "    \"negative_prompt\": \"\",\n",
    "    \"prompt_strength\": 0.8,\n",
    "    \"num_inference_steps\": 50\n",
    "  }\n",
    ")\n",
    "print(output)\n",
    "# List of image URLs\n",
    "images_list = ''.join([f'<img src=\"{url}\" style=\"width: 200px; margin: 0px; float: left;\" />' for url in output])\n",
    "# Display the images side by side\n",
    "display(HTML(images_list))"
   ]
  },
  {
   "cell_type": "code",
   "execution_count": 99,
   "metadata": {},
   "outputs": [
    {
     "name": "stdout",
     "output_type": "stream",
     "text": [
      "['https://replicate.delivery/pbxt/lftIEfhpCpk4d0S80UxcOeccPPXk6QMWfsbBtSAm4Ap8wCHIB/out-0.png', 'https://replicate.delivery/pbxt/F7jBiQ9grq5VLpKiIdrZcUID2Du4fpufqNPekZhoPrTgYhDkA/out-1.png']\n"
     ]
    },
    {
     "data": {
      "text/html": [
       "<img src=\"https://replicate.delivery/pbxt/lftIEfhpCpk4d0S80UxcOeccPPXk6QMWfsbBtSAm4Ap8wCHIB/out-0.png\" style=\"width: 200px; margin: 0px; float: left;\" /><img src=\"https://replicate.delivery/pbxt/F7jBiQ9grq5VLpKiIdrZcUID2Du4fpufqNPekZhoPrTgYhDkA/out-1.png\" style=\"width: 200px; margin: 0px; float: left;\" />"
      ],
      "text/plain": [
       "<IPython.core.display.HTML object>"
      ]
     },
     "metadata": {},
     "output_type": "display_data"
    }
   ],
   "source": [
    "output = replicate.run(\n",
    "  \"vkolagotla/bapubomma_ai:a20658186167e3890e2aec036cd4de9f10bc3749da20dbebef3e91f052e9e61c\",\n",
    "  input={\n",
    "    \"width\": 256,\n",
    "    \"height\": 256,\n",
    "    \"prompt\": \"Lord Rama and Sita walking in a beautiful south Indian village near godhavari, river, bapubomma, clear faces\",\n",
    "    \"refine\": \"no_refiner\",\n",
    "    \"scheduler\": \"K_EULER\",\n",
    "    \"lora_scale\": 0.79,\n",
    "    \"num_outputs\": 2,\n",
    "    \"guidance_scale\": 7.5,\n",
    "    \"apply_watermark\": False,\n",
    "    \"high_noise_frac\": 0.8,\n",
    "    \"negative_prompt\": \"\",\n",
    "    \"prompt_strength\": 0.8,\n",
    "    \"num_inference_steps\": 50\n",
    "  }\n",
    ")\n",
    "print(output)\n",
    "# List of image URLs\n",
    "images_list = ''.join([f'<img src=\"{url}\" style=\"width: 200px; margin: 0px; float: left;\" />' for url in output])\n",
    "# Display the images side by side\n",
    "display(HTML(images_list))"
   ]
  },
  {
   "cell_type": "code",
   "execution_count": 100,
   "metadata": {},
   "outputs": [
    {
     "name": "stdout",
     "output_type": "stream",
     "text": [
      "['https://replicate.delivery/pbxt/lPFBg1YCMbLKAFh227zJhjeEkPcjpCgAxIv2mWR6qovLW4AJA/out-0.png', 'https://replicate.delivery/pbxt/kwn3Xuo4JV7bF9SZA5zo2IFxsPWXeKRoVNgsST2umCaMW4AJA/out-1.png']\n"
     ]
    },
    {
     "data": {
      "text/html": [
       "<img src=\"https://replicate.delivery/pbxt/lPFBg1YCMbLKAFh227zJhjeEkPcjpCgAxIv2mWR6qovLW4AJA/out-0.png\" style=\"width: 200px; margin: 0px; float: left;\" /><img src=\"https://replicate.delivery/pbxt/kwn3Xuo4JV7bF9SZA5zo2IFxsPWXeKRoVNgsST2umCaMW4AJA/out-1.png\" style=\"width: 200px; margin: 0px; float: left;\" />"
      ],
      "text/plain": [
       "<IPython.core.display.HTML object>"
      ]
     },
     "metadata": {},
     "output_type": "display_data"
    }
   ],
   "source": [
    "output = replicate.run(\n",
    "  \"vkolagotla/bapubomma_ai:a20658186167e3890e2aec036cd4de9f10bc3749da20dbebef3e91f052e9e61c\",\n",
    "  input={\n",
    "    \"width\": 256,\n",
    "    \"height\": 256,\n",
    "    \"prompt\": \"Lord Rama and Sita walking in a beautiful south Indian village near godhavari, river, clear faces\",\n",
    "    \"refine\": \"no_refiner\",\n",
    "    \"scheduler\": \"K_EULER\",\n",
    "    \"lora_scale\": 0.79,\n",
    "    \"num_outputs\": 2,\n",
    "    \"guidance_scale\": 7.5,\n",
    "    \"apply_watermark\": False,\n",
    "    \"high_noise_frac\": 0.8,\n",
    "    \"negative_prompt\": \"\",\n",
    "    \"prompt_strength\": 0.8,\n",
    "    \"num_inference_steps\": 50\n",
    "  }\n",
    ")\n",
    "print(output)\n",
    "# List of image URLs\n",
    "images_list = ''.join([f'<img src=\"{url}\" style=\"width: 200px; margin: 0px; float: left;\" />' for url in output])\n",
    "# Display the images side by side\n",
    "display(HTML(images_list))"
   ]
  },
  {
   "cell_type": "code",
   "execution_count": 101,
   "metadata": {},
   "outputs": [
    {
     "name": "stdout",
     "output_type": "stream",
     "text": [
      "['https://replicate.delivery/pbxt/2bx3NVq0P4YMJpysokWeLML4cQlRQ2XTSLGQN1SC5kvPW4AJA/out-0.png', 'https://replicate.delivery/pbxt/ffKeV4Q3GgE9nokgI6zTpceTh8PdfrxDCwj9nOVR9bcMkFOQC/out-1.png']\n"
     ]
    },
    {
     "data": {
      "text/html": [
       "<img src=\"https://replicate.delivery/pbxt/2bx3NVq0P4YMJpysokWeLML4cQlRQ2XTSLGQN1SC5kvPW4AJA/out-0.png\" style=\"width: 200px; margin: 0px; float: left;\" /><img src=\"https://replicate.delivery/pbxt/ffKeV4Q3GgE9nokgI6zTpceTh8PdfrxDCwj9nOVR9bcMkFOQC/out-1.png\" style=\"width: 200px; margin: 0px; float: left;\" />"
      ],
      "text/plain": [
       "<IPython.core.display.HTML object>"
      ]
     },
     "metadata": {},
     "output_type": "display_data"
    }
   ],
   "source": [
    "output = replicate.run(\n",
    "  \"vkolagotla/bapubomma_ai:a20658186167e3890e2aec036cd4de9f10bc3749da20dbebef3e91f052e9e61c\",\n",
    "  input={\n",
    "    \"width\": 256,\n",
    "    \"height\": 256,\n",
    "    \"prompt\": \"Lord Rama and Sita walking in a beautiful south Indian village near godhavari, river, clear faces\",\n",
    "    \"refine\": \"no_refiner\",\n",
    "    \"scheduler\": \"K_EULER\",\n",
    "    \"lora_scale\": 0.79,\n",
    "    \"num_outputs\": 2,\n",
    "    \"guidance_scale\": 7.5,\n",
    "    \"apply_watermark\": False,\n",
    "    \"high_noise_frac\": 0.8,\n",
    "    \"negative_prompt\": \"\",\n",
    "    \"prompt_strength\": 0.8,\n",
    "    \"num_inference_steps\": 50\n",
    "  }\n",
    ")\n",
    "print(output)\n",
    "# List of image URLs\n",
    "images_list = ''.join([f'<img src=\"{url}\" style=\"width: 200px; margin: 0px; float: left;\" />' for url in output])\n",
    "# Display the images side by side\n",
    "display(HTML(images_list))"
   ]
  },
  {
   "cell_type": "code",
   "execution_count": 103,
   "metadata": {},
   "outputs": [],
   "source": [
    "# the OG SDXL model was not trainied on 256x256 so maybe that's why we got sub par predictions?"
   ]
  },
  {
   "cell_type": "markdown",
   "metadata": {},
   "source": [
    "# model 256_ep_1_lr_4e4\n",
    "\n",
    "## incease the lr rate to 4e-4(0.0004) before it was 1e-4(0.0001)"
   ]
  },
  {
   "cell_type": "code",
   "execution_count": null,
   "metadata": {},
   "outputs": [],
   "source": [
    "# predictions for model at vkolagotla/bapubomma_ai:ca88380d5edfc3e42fd5ef3b66627a085a6fb0aa773deb9c33dcd82794799ad1"
   ]
  },
  {
   "cell_type": "code",
   "execution_count": 104,
   "metadata": {},
   "outputs": [
    {
     "name": "stdout",
     "output_type": "stream",
     "text": [
      "['https://replicate.delivery/pbxt/lrD4cKblNGJNAFyoQv2WCqUJYxmsUiPf2b4uMIyGkDUiW4AJA/out-0.png', 'https://replicate.delivery/pbxt/rtW1E4968ILyDFG2q4vtEHFIziTHFaxFyevZTC72orriW4AJA/out-1.png']\n"
     ]
    },
    {
     "data": {
      "text/html": [
       "<img src=\"https://replicate.delivery/pbxt/lrD4cKblNGJNAFyoQv2WCqUJYxmsUiPf2b4uMIyGkDUiW4AJA/out-0.png\" style=\"width: 200px; margin: 0px; float: left;\" /><img src=\"https://replicate.delivery/pbxt/rtW1E4968ILyDFG2q4vtEHFIziTHFaxFyevZTC72orriW4AJA/out-1.png\" style=\"width: 200px; margin: 0px; float: left;\" />"
      ],
      "text/plain": [
       "<IPython.core.display.HTML object>"
      ]
     },
     "metadata": {},
     "output_type": "display_data"
    }
   ],
   "source": [
    "output = replicate.run(\n",
    "  \"vkolagotla/bapubomma_ai:ca88380d5edfc3e42fd5ef3b66627a085a6fb0aa773deb9c33dcd82794799ad1\",\n",
    "  input={\n",
    "    \"width\": 256,\n",
    "    \"height\": 256,\n",
    "    \"prompt\": \"bapubomma, Lord Rama and Sita walking together in a beautiful south Indian village near godhavari, river, clear faces\",\n",
    "    \"refine\": \"no_refiner\",\n",
    "    \"scheduler\": \"K_EULER\",\n",
    "    \"lora_scale\": 0.79,\n",
    "    \"num_outputs\": 2,\n",
    "    \"guidance_scale\": 7.5,\n",
    "    \"apply_watermark\": False,\n",
    "    \"high_noise_frac\": 0.8,\n",
    "    \"negative_prompt\": \"\",\n",
    "    \"prompt_strength\": 0.8,\n",
    "    \"num_inference_steps\": 50\n",
    "  }\n",
    ")\n",
    "print(output)\n",
    "# List of image URLs\n",
    "images_list = ''.join([f'<img src=\"{url}\" style=\"width: 200px; margin: 0px; float: left;\" />' for url in output])\n",
    "# Display the images side by side\n",
    "display(HTML(images_list))"
   ]
  },
  {
   "cell_type": "code",
   "execution_count": 105,
   "metadata": {},
   "outputs": [],
   "source": [
    "# seem a bit better with the bigger lr but still not good enough so more on..."
   ]
  },
  {
   "cell_type": "markdown",
   "metadata": {},
   "source": [
    "# model lr_4e4_512_ep_10\n",
    "## train/fine tune model with 512x512 and use 500 steps"
   ]
  },
  {
   "cell_type": "code",
   "execution_count": 107,
   "metadata": {},
   "outputs": [],
   "source": [
    "# new train run with lr=4e-4, steps=500, img_size=512x512, "
   ]
  },
  {
   "cell_type": "code",
   "execution_count": 26,
   "metadata": {},
   "outputs": [],
   "source": [
    "training_ep_real_10 = replicate.trainings.create(\n",
    "    version=\"stability-ai/sdxl:39ed52f2a78e934b3ba6e2a89f5b1c712de7dfea535525255b1aa35c5565e08b\",\n",
    "    input={\n",
    "        \"input_images\": \"https://vkolagotla.gitlab.io/assets/bapu_ai_train_data_h_kadha.zip\",\n",
    "        \"lora_lr\": 4e-4,\n",
    "        \"num_train_epochs\": 10,\n",
    "        \"max_train_steps\": 500,\n",
    "        \"resolution\": 512,\n",
    "        \"token_string\": \"bapubomma\",\n",
    "        \"caption_prefix\": \"Art, illustrations in the style of indian artist bapu, bapubomma\",\n",
    "    },\n",
    "    destination=\"vkolagotla/bapubomma_ai\"\n",
    ")"
   ]
  },
  {
   "cell_type": "code",
   "execution_count": 108,
   "metadata": {},
   "outputs": [
    {
     "name": "stdout",
     "output_type": "stream",
     "text": [
      "['https://replicate.delivery/pbxt/oUQI0v8e33zzIC05klhAcfC39BkbIA9KpsJCqpmykYXUywBSA/out-0.png', 'https://replicate.delivery/pbxt/J2R7s580ktY0Gt0JdByN3myof1gA0r8q20DzWAszwlnKZ4AJA/out-1.png']\n"
     ]
    },
    {
     "data": {
      "text/html": [
       "<img src=\"https://replicate.delivery/pbxt/oUQI0v8e33zzIC05klhAcfC39BkbIA9KpsJCqpmykYXUywBSA/out-0.png\" style=\"width: 200px; margin: 0px; float: left;\" /><img src=\"https://replicate.delivery/pbxt/J2R7s580ktY0Gt0JdByN3myof1gA0r8q20DzWAszwlnKZ4AJA/out-1.png\" style=\"width: 200px; margin: 0px; float: left;\" />"
      ],
      "text/plain": [
       "<IPython.core.display.HTML object>"
      ]
     },
     "metadata": {},
     "output_type": "display_data"
    }
   ],
   "source": [
    "output = replicate.run(\n",
    "  \"vkolagotla/bapubomma_ai:5c1aee6a179738ed8b70d6c4225533241e404c031c1010c4f355004c1898c8d5\",\n",
    "  input={\n",
    "    \"width\": 512,\n",
    "    \"height\": 512,\n",
    "    \"prompt\": \"bapubomma, Lord Rama and Sita walking together in a beautiful south Indian village near godhavari, river, clear faces\",\n",
    "    \"refine\": \"no_refiner\",\n",
    "    \"scheduler\": \"K_EULER\",\n",
    "    \"lora_scale\": 0.79,\n",
    "    \"num_outputs\": 2,\n",
    "    \"guidance_scale\": 7.5,\n",
    "    \"apply_watermark\": False,\n",
    "    \"high_noise_frac\": 0.8,\n",
    "    \"negative_prompt\": \"\",\n",
    "    \"prompt_strength\": 0.8,\n",
    "    \"num_inference_steps\": 50\n",
    "  }\n",
    ")\n",
    "print(output)\n",
    "# List of image URLs\n",
    "images_list = ''.join([f'<img src=\"{url}\" style=\"width: 200px; margin: 0px; float: left;\" />' for url in output])\n",
    "# Display the images side by side\n",
    "display(HTML(images_list))"
   ]
  },
  {
   "cell_type": "code",
   "execution_count": 109,
   "metadata": {
    "scrolled": true
   },
   "outputs": [
    {
     "name": "stdout",
     "output_type": "stream",
     "text": [
      "['https://replicate.delivery/pbxt/go6f0NZ5EtSHOi1fjOearOtMJPKeIyggRudCb6bZcb2qLDHIB/out-0.png', 'https://replicate.delivery/pbxt/0tMI5gTSOY4KE9Xnn0rfmrhuQLgxm20J569IfAZSuA46ywBSA/out-1.png']\n"
     ]
    },
    {
     "data": {
      "text/html": [
       "<img src=\"https://replicate.delivery/pbxt/go6f0NZ5EtSHOi1fjOearOtMJPKeIyggRudCb6bZcb2qLDHIB/out-0.png\" style=\"width: 200px; margin: 0px; float: left;\" /><img src=\"https://replicate.delivery/pbxt/0tMI5gTSOY4KE9Xnn0rfmrhuQLgxm20J569IfAZSuA46ywBSA/out-1.png\" style=\"width: 200px; margin: 0px; float: left;\" />"
      ],
      "text/plain": [
       "<IPython.core.display.HTML object>"
      ]
     },
     "metadata": {},
     "output_type": "display_data"
    }
   ],
   "source": [
    "output = replicate.run(\n",
    "  \"vkolagotla/bapubomma_ai:5c1aee6a179738ed8b70d6c4225533241e404c031c1010c4f355004c1898c8d5\",\n",
    "  input={\n",
    "    \"width\": 512,\n",
    "    \"height\": 512,\n",
    "    \"prompt\": \"bapubomma, two brothers walking together in a beautiful south Indian village near godhavari, river, clear faces\",\n",
    "    \"refine\": \"no_refiner\",\n",
    "    \"scheduler\": \"K_EULER\",\n",
    "    \"lora_scale\": 0.79,\n",
    "    \"num_outputs\": 2,\n",
    "    \"guidance_scale\": 7.5,\n",
    "    \"apply_watermark\": False,\n",
    "    \"high_noise_frac\": 0.8,\n",
    "    \"negative_prompt\": \"\",\n",
    "    \"prompt_strength\": 0.8,\n",
    "    \"num_inference_steps\": 50\n",
    "  }\n",
    ")\n",
    "print(output)\n",
    "# List of image URLs\n",
    "images_list = ''.join([f'<img src=\"{url}\" style=\"width: 200px; margin: 0px; float: left;\" />' for url in output])\n",
    "# Display the images side by side\n",
    "display(HTML(images_list))"
   ]
  },
  {
   "cell_type": "code",
   "execution_count": 110,
   "metadata": {
    "scrolled": true
   },
   "outputs": [
    {
     "name": "stdout",
     "output_type": "stream",
     "text": [
      "['https://replicate.delivery/pbxt/9HWeuh1YC2Whe0Hiv4qtgPdImR94fkbeuUobX0SyYoNPMDHIB/out-0.png', 'https://replicate.delivery/pbxt/QHhJBbNwLxIEKZTtZCZeMCY5LUysXdD4g73TFUd2vtlhZ4AJA/out-1.png']\n"
     ]
    },
    {
     "data": {
      "text/html": [
       "<img src=\"https://replicate.delivery/pbxt/9HWeuh1YC2Whe0Hiv4qtgPdImR94fkbeuUobX0SyYoNPMDHIB/out-0.png\" style=\"width: 200px; margin: 0px; float: left;\" /><img src=\"https://replicate.delivery/pbxt/QHhJBbNwLxIEKZTtZCZeMCY5LUysXdD4g73TFUd2vtlhZ4AJA/out-1.png\" style=\"width: 200px; margin: 0px; float: left;\" />"
      ],
      "text/plain": [
       "<IPython.core.display.HTML object>"
      ]
     },
     "metadata": {},
     "output_type": "display_data"
    }
   ],
   "source": [
    "output = replicate.run(\n",
    "  \"vkolagotla/bapubomma_ai:5c1aee6a179738ed8b70d6c4225533241e404c031c1010c4f355004c1898c8d5\",\n",
    "  input={\n",
    "    \"width\": 512,\n",
    "    \"height\": 512,\n",
    "    \"prompt\": \"bapubomma, two brothers walking together in a beautiful south Indian village near godhavari, river, clear faces, grayscale, monochrome\",\n",
    "    \"refine\": \"no_refiner\",\n",
    "    \"scheduler\": \"K_EULER\",\n",
    "    \"lora_scale\": 0.79,\n",
    "    \"num_outputs\": 2,\n",
    "    \"guidance_scale\": 7.5,\n",
    "    \"apply_watermark\": False,\n",
    "    \"high_noise_frac\": 0.8,\n",
    "    \"negative_prompt\": \"\",\n",
    "    \"prompt_strength\": 0.8,\n",
    "    \"num_inference_steps\": 50\n",
    "  }\n",
    ")\n",
    "print(output)\n",
    "# List of image URLs\n",
    "images_list = ''.join([f'<img src=\"{url}\" style=\"width: 200px; margin: 0px; float: left;\" />' for url in output])\n",
    "# Display the images side by side\n",
    "display(HTML(images_list))"
   ]
  },
  {
   "cell_type": "code",
   "execution_count": 111,
   "metadata": {},
   "outputs": [
    {
     "name": "stdout",
     "output_type": "stream",
     "text": [
      "['https://replicate.delivery/pbxt/EIZep9mPdn24UajKoZN4ev6KGprrVdR2VkmXOMS14rIhzwBSA/out-0.png', 'https://replicate.delivery/pbxt/gE4hRifAapx5XCOcbG91LdtEiQqhSZH7ePJBO6uOh4XhzwBSA/out-1.png']\n"
     ]
    },
    {
     "data": {
      "text/html": [
       "<img src=\"https://replicate.delivery/pbxt/EIZep9mPdn24UajKoZN4ev6KGprrVdR2VkmXOMS14rIhzwBSA/out-0.png\" style=\"width: 200px; margin: 0px; float: left;\" /><img src=\"https://replicate.delivery/pbxt/gE4hRifAapx5XCOcbG91LdtEiQqhSZH7ePJBO6uOh4XhzwBSA/out-1.png\" style=\"width: 200px; margin: 0px; float: left;\" />"
      ],
      "text/plain": [
       "<IPython.core.display.HTML object>"
      ]
     },
     "metadata": {},
     "output_type": "display_data"
    }
   ],
   "source": [
    "output = replicate.run(\n",
    "  \"vkolagotla/bapubomma_ai:5c1aee6a179738ed8b70d6c4225533241e404c031c1010c4f355004c1898c8d5\",\n",
    "  input={\n",
    "    \"width\": 512,\n",
    "    \"height\": 512,\n",
    "    \"prompt\": \"bapubomma, two brothers walking together in a beautiful south italian village, europe tour, beautiful village, river, clear faces\",\n",
    "    \"refine\": \"no_refiner\",\n",
    "    \"scheduler\": \"K_EULER\",\n",
    "    \"lora_scale\": 0.8,\n",
    "    \"num_outputs\": 2,\n",
    "    \"guidance_scale\": 7.5,\n",
    "    \"apply_watermark\": True,\n",
    "    \"high_noise_frac\": 0.8,\n",
    "    \"negative_prompt\": \"\",\n",
    "    \"prompt_strength\": 0.8,\n",
    "    \"num_inference_steps\": 50\n",
    "  }\n",
    ")\n",
    "print(output)\n",
    "# List of image URLs\n",
    "images_list = ''.join([f'<img src=\"{url}\" style=\"width: 200px; margin: 0px; float: left;\" />' for url in output])\n",
    "# Display the images side by side\n",
    "display(HTML(images_list))"
   ]
  },
  {
   "cell_type": "code",
   "execution_count": 112,
   "metadata": {},
   "outputs": [
    {
     "name": "stdout",
     "output_type": "stream",
     "text": [
      "['https://replicate.delivery/pbxt/vnVMmz4qBb5UC5IDqmL4fvfaEshf3Sd2zeXfX055f4r5DNcgE/out-0.png', 'https://replicate.delivery/pbxt/6QeGuTsKWZ2ZZCg8I4mqopmbio8fRPGdSUEsz9ys3XiP0wBSA/out-1.png']\n"
     ]
    },
    {
     "data": {
      "text/html": [
       "<img src=\"https://replicate.delivery/pbxt/vnVMmz4qBb5UC5IDqmL4fvfaEshf3Sd2zeXfX055f4r5DNcgE/out-0.png\" style=\"width: 200px; margin: 0px; float: left;\" /><img src=\"https://replicate.delivery/pbxt/6QeGuTsKWZ2ZZCg8I4mqopmbio8fRPGdSUEsz9ys3XiP0wBSA/out-1.png\" style=\"width: 200px; margin: 0px; float: left;\" />"
      ],
      "text/plain": [
       "<IPython.core.display.HTML object>"
      ]
     },
     "metadata": {},
     "output_type": "display_data"
    }
   ],
   "source": [
    "output = replicate.run(\n",
    "  \"vkolagotla/bapubomma_ai:5c1aee6a179738ed8b70d6c4225533241e404c031c1010c4f355004c1898c8d5\",\n",
    "  input={\n",
    "    \"width\": 512,\n",
    "    \"height\": 512,\n",
    "    \"prompt\": \"bapubomma, two brothers walking together in a beautiful south frence village, europe tour, beautiful village, river, clear faces\",\n",
    "    \"refine\": \"no_refiner\",\n",
    "    \"scheduler\": \"K_EULER\",\n",
    "    \"lora_scale\": 0.8,\n",
    "    \"num_outputs\": 2,\n",
    "    \"guidance_scale\": 7.5,\n",
    "    \"apply_watermark\": True,\n",
    "    \"high_noise_frac\": 0.8,\n",
    "    \"negative_prompt\": \"\",\n",
    "    \"prompt_strength\": 0.8,\n",
    "    \"num_inference_steps\": 50\n",
    "  }\n",
    ")\n",
    "print(output)\n",
    "# List of image URLs\n",
    "images_list = ''.join([f'<img src=\"{url}\" style=\"width: 200px; margin: 0px; float: left;\" />' for url in output])\n",
    "# Display the images side by side\n",
    "display(HTML(images_list))"
   ]
  },
  {
   "cell_type": "code",
   "execution_count": 113,
   "metadata": {},
   "outputs": [],
   "source": [
    "# 512x512 clearly helped with the image resolutions, maybe needs more epochs/stpes and diverse data?"
   ]
  },
  {
   "cell_type": "markdown",
   "metadata": {},
   "source": [
    "# TODO: tomorrow/12.12.23"
   ]
  },
  {
   "cell_type": "code",
   "execution_count": null,
   "metadata": {},
   "outputs": [],
   "source": [
    "# find a way to set numb of epochs others than the default, same for steps \n",
    "# need to train it on more epochs, should get better\n",
    "# include marriage data set and other datasets\n",
    "# do one training with all the data\n",
    "# maybe increase lr ever more? use bigger one?"
   ]
  },
  {
   "cell_type": "markdown",
   "metadata": {},
   "source": [
    "# model_steps_4000\n",
    "\n",
    "## new model train with 4000 steps, same lr to test more steps impact"
   ]
  },
  {
   "cell_type": "code",
   "execution_count": 37,
   "metadata": {},
   "outputs": [],
   "source": [
    "training_ep_10_step_5000 = replicate.trainings.create(\n",
    "    version=\"stability-ai/sdxl:39ed52f2a78e934b3ba6e2a89f5b1c712de7dfea535525255b1aa35c5565e08b\",\n",
    "    input={\n",
    "        \"input_images\": \"https://vkolagotla.gitlab.io/assets/bapu_ai_train_data_h_kadha.zip\",\n",
    "        \"lora_lr\": 4e-4,\n",
    "        \"num_train_epochs\": 10,\n",
    "        \"max_train_steps\": 4000,\n",
    "        \"resolution\": 512,\n",
    "        \"token_string\": \"bapubomma\",\n",
    "        \"caption_prefix\": \"Art, illustrations in the style of indian artist bapu, bapubomma\",\n",
    "    },\n",
    "    destination=\"vkolagotla/bapubomma_ai\"\n",
    ")"
   ]
  },
  {
   "cell_type": "code",
   "execution_count": null,
   "metadata": {},
   "outputs": [],
   "source": [
    "  \"vkolagotla/bapubomma_ai:3637ae5370511e6cbc4d1a997807bbf93b3025e7e72b246f24a0ad52966088e5\",\n",
    "# 4000 steps"
   ]
  },
  {
   "cell_type": "code",
   "execution_count": 114,
   "metadata": {},
   "outputs": [
    {
     "name": "stdout",
     "output_type": "stream",
     "text": [
      "['https://replicate.delivery/pbxt/PIm7PtY5Uc5IPtU7EUwSHrmfuI9UB7YApxVQZoCcdYK3b4AJA/out-0.png', 'https://replicate.delivery/pbxt/vD793zOe730yM6MwElMChyb9KfuUDehAfz1lmyiH6b54eGOQC/out-1.png']\n"
     ]
    },
    {
     "data": {
      "text/html": [
       "<img src=\"https://replicate.delivery/pbxt/PIm7PtY5Uc5IPtU7EUwSHrmfuI9UB7YApxVQZoCcdYK3b4AJA/out-0.png\" style=\"width: 200px; margin: 0px; float: left;\" /><img src=\"https://replicate.delivery/pbxt/vD793zOe730yM6MwElMChyb9KfuUDehAfz1lmyiH6b54eGOQC/out-1.png\" style=\"width: 200px; margin: 0px; float: left;\" />"
      ],
      "text/plain": [
       "<IPython.core.display.HTML object>"
      ]
     },
     "metadata": {},
     "output_type": "display_data"
    }
   ],
   "source": [
    "output = replicate.run(\n",
    "  \"vkolagotla/bapubomma_ai:3637ae5370511e6cbc4d1a997807bbf93b3025e7e72b246f24a0ad52966088e5\",\n",
    "  input={\n",
    "    \"width\": 512,\n",
    "    \"height\": 512,\n",
    "    \"prompt\": \"bapubomma, two brothers walking together in a beautiful south italian village, europe tour, beautiful village, river, clear faces\",\n",
    "    \"refine\": \"no_refiner\",\n",
    "    \"scheduler\": \"K_EULER\",\n",
    "    \"lora_scale\": 0.8,\n",
    "    \"num_outputs\": 2,\n",
    "    \"guidance_scale\": 7.5,\n",
    "    \"apply_watermark\": True,\n",
    "    \"high_noise_frac\": 0.8,\n",
    "    \"negative_prompt\": \"\",\n",
    "    \"prompt_strength\": 0.8,\n",
    "    \"num_inference_steps\": 50\n",
    "  }\n",
    ")\n",
    "print(output)\n",
    "# List of image URLs\n",
    "images_list = ''.join([f'<img src=\"{url}\" style=\"width: 200px; margin: 0px; float: left;\" />' for url in output])\n",
    "# Display the images side by side\n",
    "display(HTML(images_list))"
   ]
  },
  {
   "cell_type": "code",
   "execution_count": 115,
   "metadata": {
    "scrolled": false
   },
   "outputs": [
    {
     "name": "stdout",
     "output_type": "stream",
     "text": [
      "['https://replicate.delivery/pbxt/VXb5tUejFlTRYa2eRvvEJ0Qq4ECi3Gdm8GWUfceTIt6eeNcgE/out-0.png', 'https://replicate.delivery/pbxt/iX4z9snWIez7ECkI7ONDfewO6jKW8MMwborkU81RuUBuvhDkA/out-1.png']\n"
     ]
    },
    {
     "data": {
      "text/html": [
       "<img src=\"https://replicate.delivery/pbxt/VXb5tUejFlTRYa2eRvvEJ0Qq4ECi3Gdm8GWUfceTIt6eeNcgE/out-0.png\" style=\"width: 200px; margin: 0px; float: left;\" /><img src=\"https://replicate.delivery/pbxt/iX4z9snWIez7ECkI7ONDfewO6jKW8MMwborkU81RuUBuvhDkA/out-1.png\" style=\"width: 200px; margin: 0px; float: left;\" />"
      ],
      "text/plain": [
       "<IPython.core.display.HTML object>"
      ]
     },
     "metadata": {},
     "output_type": "display_data"
    }
   ],
   "source": [
    "output = replicate.run(\n",
    "  \"vkolagotla/bapubomma_ai:3637ae5370511e6cbc4d1a997807bbf93b3025e7e72b246f24a0ad52966088e5\",\n",
    "  input={\n",
    "    \"width\": 512,\n",
    "    \"height\": 512,\n",
    "    \"prompt\": \"bapubomma, two brothers walking together in a beautiful south indian village, beautiful village, river, clear faces\",\n",
    "    \"refine\": \"no_refiner\",\n",
    "    \"scheduler\": \"K_EULER\",\n",
    "    \"lora_scale\": 0.8,\n",
    "    \"num_outputs\": 2,\n",
    "    \"guidance_scale\": 7.5,\n",
    "    \"apply_watermark\": True,\n",
    "    \"high_noise_frac\": 0.8,\n",
    "    \"negative_prompt\": \"\",\n",
    "    \"prompt_strength\": 0.8,\n",
    "    \"num_inference_steps\": 50\n",
    "  }\n",
    ")\n",
    "print(output)\n",
    "# List of image URLs\n",
    "images_list = ''.join([f'<img src=\"{url}\" style=\"width: 200px; margin: 0px; float: left;\" />' for url in output])\n",
    "# Display the images side by side\n",
    "display(HTML(images_list))"
   ]
  },
  {
   "cell_type": "code",
   "execution_count": null,
   "metadata": {},
   "outputs": [],
   "source": [
    "# more steps somehow gave bad model? maybe needs a diverse data with a slightly differnt style"
   ]
  },
  {
   "cell_type": "markdown",
   "metadata": {},
   "source": [
    "# model lr_4e3_step100\n",
    "\n",
    "## new model train run with same dataset but bigger lr=0.004 "
   ]
  },
  {
   "cell_type": "code",
   "execution_count": 41,
   "metadata": {},
   "outputs": [],
   "source": [
    "training_ep_10_step_1000_lr_4e3 = replicate.trainings.create(\n",
    "    version=\"stability-ai/sdxl:39ed52f2a78e934b3ba6e2a89f5b1c712de7dfea535525255b1aa35c5565e08b\",\n",
    "    input={\n",
    "        \"input_images\": \"https://vkolagotla.gitlab.io/assets/bapu_ai_train_data_h_kadha.zip\",\n",
    "        \"lora_lr\": 4e-3,\n",
    "        \"num_train_epochs\": 10,\n",
    "        \"max_train_steps\": 1000,\n",
    "        \"resolution\": 512,\n",
    "        \"token_string\": \"bapubomma\",\n",
    "        \"caption_prefix\": \"Art, illustrations in the style of indian artist bapu, bapubomma\",\n",
    "    },\n",
    "    destination=\"vkolagotla/bapubomma_ai\"\n",
    ")"
   ]
  },
  {
   "cell_type": "code",
   "execution_count": null,
   "metadata": {},
   "outputs": [],
   "source": [
    "  \"vkolagotla/bapubomma_ai:395e64068f64ec75bbdb36c417973f83a8f083841b0870ebebcd70726c41d39e\","
   ]
  },
  {
   "cell_type": "code",
   "execution_count": 43,
   "metadata": {
    "scrolled": true
   },
   "outputs": [
    {
     "ename": "ModelError",
     "evalue": "NSFW content detected. Try running it again, or try a different prompt.",
     "output_type": "error",
     "traceback": [
      "\u001b[0;31m---------------------------------------------------------------------------\u001b[0m",
      "\u001b[0;31mModelError\u001b[0m                                Traceback (most recent call last)",
      "Input \u001b[0;32mIn [43]\u001b[0m, in \u001b[0;36m<cell line: 1>\u001b[0;34m()\u001b[0m\n\u001b[0;32m----> 1\u001b[0m output \u001b[38;5;241m=\u001b[39m \u001b[43mreplicate\u001b[49m\u001b[38;5;241;43m.\u001b[39;49m\u001b[43mrun\u001b[49m\u001b[43m(\u001b[49m\n\u001b[1;32m      2\u001b[0m \u001b[43m  \u001b[49m\u001b[38;5;124;43m\"\u001b[39;49m\u001b[38;5;124;43mvkolagotla/bapubomma_ai:395e64068f64ec75bbdb36c417973f83a8f083841b0870ebebcd70726c41d39e\u001b[39;49m\u001b[38;5;124;43m\"\u001b[39;49m\u001b[43m,\u001b[49m\n\u001b[1;32m      3\u001b[0m \u001b[43m  \u001b[49m\u001b[38;5;28;43minput\u001b[39;49m\u001b[38;5;241;43m=\u001b[39;49m\u001b[43m{\u001b[49m\n\u001b[1;32m      4\u001b[0m \u001b[43m    \u001b[49m\u001b[38;5;124;43m\"\u001b[39;49m\u001b[38;5;124;43mwidth\u001b[39;49m\u001b[38;5;124;43m\"\u001b[39;49m\u001b[43m:\u001b[49m\u001b[43m \u001b[49m\u001b[38;5;241;43m512\u001b[39;49m\u001b[43m,\u001b[49m\n\u001b[1;32m      5\u001b[0m \u001b[43m    \u001b[49m\u001b[38;5;124;43m\"\u001b[39;49m\u001b[38;5;124;43mheight\u001b[39;49m\u001b[38;5;124;43m\"\u001b[39;49m\u001b[43m:\u001b[49m\u001b[43m \u001b[49m\u001b[38;5;241;43m512\u001b[39;49m\u001b[43m,\u001b[49m\n\u001b[1;32m      6\u001b[0m \u001b[43m    \u001b[49m\u001b[38;5;124;43m\"\u001b[39;49m\u001b[38;5;124;43mprompt\u001b[39;49m\u001b[38;5;124;43m\"\u001b[39;49m\u001b[43m:\u001b[49m\u001b[43m \u001b[49m\u001b[38;5;124;43m\"\u001b[39;49m\u001b[38;5;124;43mbapubomma, two brothers walking together in a beautiful south italian village, europe tour, beautiful village, river, clear faces\u001b[39;49m\u001b[38;5;124;43m\"\u001b[39;49m\u001b[43m,\u001b[49m\n\u001b[1;32m      7\u001b[0m \u001b[43m    \u001b[49m\u001b[38;5;124;43m\"\u001b[39;49m\u001b[38;5;124;43mrefine\u001b[39;49m\u001b[38;5;124;43m\"\u001b[39;49m\u001b[43m:\u001b[49m\u001b[43m \u001b[49m\u001b[38;5;124;43m\"\u001b[39;49m\u001b[38;5;124;43mno_refiner\u001b[39;49m\u001b[38;5;124;43m\"\u001b[39;49m\u001b[43m,\u001b[49m\n\u001b[1;32m      8\u001b[0m \u001b[43m    \u001b[49m\u001b[38;5;124;43m\"\u001b[39;49m\u001b[38;5;124;43mscheduler\u001b[39;49m\u001b[38;5;124;43m\"\u001b[39;49m\u001b[43m:\u001b[49m\u001b[43m \u001b[49m\u001b[38;5;124;43m\"\u001b[39;49m\u001b[38;5;124;43mK_EULER\u001b[39;49m\u001b[38;5;124;43m\"\u001b[39;49m\u001b[43m,\u001b[49m\n\u001b[1;32m      9\u001b[0m \u001b[43m    \u001b[49m\u001b[38;5;124;43m\"\u001b[39;49m\u001b[38;5;124;43mlora_scale\u001b[39;49m\u001b[38;5;124;43m\"\u001b[39;49m\u001b[43m:\u001b[49m\u001b[43m \u001b[49m\u001b[38;5;241;43m0.8\u001b[39;49m\u001b[43m,\u001b[49m\n\u001b[1;32m     10\u001b[0m \u001b[43m    \u001b[49m\u001b[38;5;124;43m\"\u001b[39;49m\u001b[38;5;124;43mnum_outputs\u001b[39;49m\u001b[38;5;124;43m\"\u001b[39;49m\u001b[43m:\u001b[49m\u001b[43m \u001b[49m\u001b[38;5;241;43m2\u001b[39;49m\u001b[43m,\u001b[49m\n\u001b[1;32m     11\u001b[0m \u001b[43m    \u001b[49m\u001b[38;5;124;43m\"\u001b[39;49m\u001b[38;5;124;43mguidance_scale\u001b[39;49m\u001b[38;5;124;43m\"\u001b[39;49m\u001b[43m:\u001b[49m\u001b[43m \u001b[49m\u001b[38;5;241;43m7.5\u001b[39;49m\u001b[43m,\u001b[49m\n\u001b[1;32m     12\u001b[0m \u001b[43m    \u001b[49m\u001b[38;5;124;43m\"\u001b[39;49m\u001b[38;5;124;43mapply_watermark\u001b[39;49m\u001b[38;5;124;43m\"\u001b[39;49m\u001b[43m:\u001b[49m\u001b[43m \u001b[49m\u001b[38;5;28;43;01mTrue\u001b[39;49;00m\u001b[43m,\u001b[49m\n\u001b[1;32m     13\u001b[0m \u001b[43m    \u001b[49m\u001b[38;5;124;43m\"\u001b[39;49m\u001b[38;5;124;43mhigh_noise_frac\u001b[39;49m\u001b[38;5;124;43m\"\u001b[39;49m\u001b[43m:\u001b[49m\u001b[43m \u001b[49m\u001b[38;5;241;43m0.8\u001b[39;49m\u001b[43m,\u001b[49m\n\u001b[1;32m     14\u001b[0m \u001b[43m    \u001b[49m\u001b[38;5;124;43m\"\u001b[39;49m\u001b[38;5;124;43mnegative_prompt\u001b[39;49m\u001b[38;5;124;43m\"\u001b[39;49m\u001b[43m:\u001b[49m\u001b[43m \u001b[49m\u001b[38;5;124;43m\"\u001b[39;49m\u001b[38;5;124;43m\"\u001b[39;49m\u001b[43m,\u001b[49m\n\u001b[1;32m     15\u001b[0m \u001b[43m    \u001b[49m\u001b[38;5;124;43m\"\u001b[39;49m\u001b[38;5;124;43mprompt_strength\u001b[39;49m\u001b[38;5;124;43m\"\u001b[39;49m\u001b[43m:\u001b[49m\u001b[43m \u001b[49m\u001b[38;5;241;43m0.8\u001b[39;49m\u001b[43m,\u001b[49m\n\u001b[1;32m     16\u001b[0m \u001b[43m    \u001b[49m\u001b[38;5;124;43m\"\u001b[39;49m\u001b[38;5;124;43mnum_inference_steps\u001b[39;49m\u001b[38;5;124;43m\"\u001b[39;49m\u001b[43m:\u001b[49m\u001b[43m \u001b[49m\u001b[38;5;241;43m50\u001b[39;49m\n\u001b[1;32m     17\u001b[0m \u001b[43m  \u001b[49m\u001b[43m}\u001b[49m\n\u001b[1;32m     18\u001b[0m \u001b[43m)\u001b[49m\n\u001b[1;32m     19\u001b[0m \u001b[38;5;28mprint\u001b[39m(output)\n\u001b[1;32m     20\u001b[0m \u001b[38;5;66;03m# List of image URLs\u001b[39;00m\n",
      "File \u001b[0;32m~/anaconda3/lib/python3.9/site-packages/replicate/client.py:147\u001b[0m, in \u001b[0;36mClient.run\u001b[0;34m(self, ref, input, **params)\u001b[0m\n\u001b[1;32m    137\u001b[0m \u001b[38;5;28;01mdef\u001b[39;00m \u001b[38;5;21mrun\u001b[39m(\n\u001b[1;32m    138\u001b[0m     \u001b[38;5;28mself\u001b[39m,\n\u001b[1;32m    139\u001b[0m     ref: \u001b[38;5;28mstr\u001b[39m,\n\u001b[1;32m    140\u001b[0m     \u001b[38;5;28minput\u001b[39m: Optional[Dict[\u001b[38;5;28mstr\u001b[39m, Any]] \u001b[38;5;241m=\u001b[39m \u001b[38;5;28;01mNone\u001b[39;00m,\n\u001b[1;32m    141\u001b[0m     \u001b[38;5;241m*\u001b[39m\u001b[38;5;241m*\u001b[39mparams: Unpack[\u001b[38;5;124m\"\u001b[39m\u001b[38;5;124mPredictions.CreatePredictionParams\u001b[39m\u001b[38;5;124m\"\u001b[39m],\n\u001b[1;32m    142\u001b[0m ) \u001b[38;5;241m-\u001b[39m\u001b[38;5;241m>\u001b[39m Union[Any, Iterator[Any]]:  \u001b[38;5;66;03m# noqa: ANN401\u001b[39;00m\n\u001b[1;32m    143\u001b[0m     \u001b[38;5;124;03m\"\"\"\u001b[39;00m\n\u001b[1;32m    144\u001b[0m \u001b[38;5;124;03m    Run a model and wait for its output.\u001b[39;00m\n\u001b[1;32m    145\u001b[0m \u001b[38;5;124;03m    \"\"\"\u001b[39;00m\n\u001b[0;32m--> 147\u001b[0m     \u001b[38;5;28;01mreturn\u001b[39;00m \u001b[43mrun\u001b[49m\u001b[43m(\u001b[49m\u001b[38;5;28;43mself\u001b[39;49m\u001b[43m,\u001b[49m\u001b[43m \u001b[49m\u001b[43mref\u001b[49m\u001b[43m,\u001b[49m\u001b[43m \u001b[49m\u001b[38;5;28;43minput\u001b[39;49m\u001b[43m,\u001b[49m\u001b[43m \u001b[49m\u001b[38;5;241;43m*\u001b[39;49m\u001b[38;5;241;43m*\u001b[39;49m\u001b[43mparams\u001b[49m\u001b[43m)\u001b[49m\n",
      "File \u001b[0;32m~/anaconda3/lib/python3.9/site-packages/replicate/run.py:52\u001b[0m, in \u001b[0;36mrun\u001b[0;34m(client, ref, input, **params)\u001b[0m\n\u001b[1;32m     49\u001b[0m prediction\u001b[38;5;241m.\u001b[39mwait()\n\u001b[1;32m     51\u001b[0m \u001b[38;5;28;01mif\u001b[39;00m prediction\u001b[38;5;241m.\u001b[39mstatus \u001b[38;5;241m==\u001b[39m \u001b[38;5;124m\"\u001b[39m\u001b[38;5;124mfailed\u001b[39m\u001b[38;5;124m\"\u001b[39m:\n\u001b[0;32m---> 52\u001b[0m     \u001b[38;5;28;01mraise\u001b[39;00m ModelError(prediction\u001b[38;5;241m.\u001b[39merror)\n\u001b[1;32m     54\u001b[0m \u001b[38;5;28;01mreturn\u001b[39;00m prediction\u001b[38;5;241m.\u001b[39moutput\n",
      "\u001b[0;31mModelError\u001b[0m: NSFW content detected. Try running it again, or try a different prompt."
     ]
    }
   ],
   "source": [
    "output = replicate.run(\n",
    "  \"vkolagotla/bapubomma_ai:395e64068f64ec75bbdb36c417973f83a8f083841b0870ebebcd70726c41d39e\",\n",
    "  input={\n",
    "    \"width\": 512,\n",
    "    \"height\": 512,\n",
    "    \"prompt\": \"bapubomma, two brothers walking together in a beautiful south italian village, europe tour, beautiful village, river, clear faces\",\n",
    "    \"refine\": \"no_refiner\",\n",
    "    \"scheduler\": \"K_EULER\",\n",
    "    \"lora_scale\": 0.8,\n",
    "    \"num_outputs\": 2,\n",
    "    \"guidance_scale\": 7.5,\n",
    "    \"apply_watermark\": True,\n",
    "    \"high_noise_frac\": 0.8,\n",
    "    \"negative_prompt\": \"\",\n",
    "    \"prompt_strength\": 0.8,\n",
    "    \"num_inference_steps\": 50\n",
    "  }\n",
    ")\n",
    "print(output)\n",
    "# List of image URLs\n",
    "images_list = ''.join([f'<img src=\"{url}\" style=\"width: 200px; margin: 0px; float: left;\" />' for url in output])\n",
    "# Display the images side by side\n",
    "display(HTML(images_list))"
   ]
  },
  {
   "cell_type": "code",
   "execution_count": null,
   "metadata": {},
   "outputs": [],
   "source": [
    "# clearly something did go wrong with trainig as the model went into safe mode with same prompts?"
   ]
  },
  {
   "cell_type": "markdown",
   "metadata": {},
   "source": [
    "# Use all data from Hanumanthuni kadha, janani and wedding works,\n",
    "## total images=69\n",
    "## lr=0.0004\n",
    "## steps and epochs default\n",
    "## only image size and lr are set"
   ]
  },
  {
   "cell_type": "code",
   "execution_count": 44,
   "metadata": {},
   "outputs": [],
   "source": [
    "training_lr_4e4_all_data = replicate.trainings.create(\n",
    "    version=\"stability-ai/sdxl:39ed52f2a78e934b3ba6e2a89f5b1c712de7dfea535525255b1aa35c5565e08b\",\n",
    "    input={\n",
    "        \"input_images\": \"https://vkolagotla.gitlab.io/assets/bapubomma_ai_all.zip\",\n",
    "        \"lora_lr\": 4e-4,\n",
    "        \"resolution\": 512,\n",
    "        \"token_string\": \"bapubomma\",\n",
    "        \"caption_prefix\": \"Art, illustrations in the style of indian artist bapu, bapubomma\",\n",
    "    },\n",
    "    destination=\"vkolagotla/bapubomma_ai\"\n",
    ")"
   ]
  },
  {
   "cell_type": "code",
   "execution_count": null,
   "metadata": {},
   "outputs": [],
   "source": [
    "# predictions for model at  \"vkolagotla/bapubomma_ai:109dffee350cd443ca5449745ba553fca623754ee88b367a9908889484272452\","
   ]
  },
  {
   "cell_type": "code",
   "execution_count": 116,
   "metadata": {},
   "outputs": [
    {
     "name": "stdout",
     "output_type": "stream",
     "text": [
      "['https://replicate.delivery/pbxt/ADnqWeU6wJUJYyMC7qR1FB1msZrxurpY1SygNc8CaT7xewBSA/out-0.png', 'https://replicate.delivery/pbxt/WrvP9qjRu2YgHBJOK5fSUh6S52UN7sXGSO7HF4R5KVZyewBSA/out-1.png']\n"
     ]
    },
    {
     "data": {
      "text/html": [
       "<img src=\"https://replicate.delivery/pbxt/ADnqWeU6wJUJYyMC7qR1FB1msZrxurpY1SygNc8CaT7xewBSA/out-0.png\" style=\"width: 200px; margin: 0px; float: left;\" /><img src=\"https://replicate.delivery/pbxt/WrvP9qjRu2YgHBJOK5fSUh6S52UN7sXGSO7HF4R5KVZyewBSA/out-1.png\" style=\"width: 200px; margin: 0px; float: left;\" />"
      ],
      "text/plain": [
       "<IPython.core.display.HTML object>"
      ]
     },
     "metadata": {},
     "output_type": "display_data"
    }
   ],
   "source": [
    "output = replicate.run(\n",
    "  \"vkolagotla/bapubomma_ai:109dffee350cd443ca5449745ba553fca623754ee88b367a9908889484272452\",\n",
    "  input={\n",
    "    \"width\": 512,\n",
    "    \"height\": 512,\n",
    "    \"prompt\": \"bapubomma, two brothers walking together in a beautiful south italian village, europe tour, beautiful village, river, clear faces\",\n",
    "    \"refine\": \"no_refiner\",\n",
    "    \"scheduler\": \"K_EULER\",\n",
    "    \"lora_scale\": 0.8,\n",
    "    \"num_outputs\": 2,\n",
    "    \"guidance_scale\": 7.5,\n",
    "    \"apply_watermark\": True,\n",
    "    \"high_noise_frac\": 0.8,\n",
    "    \"negative_prompt\": \"\",\n",
    "    \"prompt_strength\": 0.8,\n",
    "    \"num_inference_steps\": 50\n",
    "  }\n",
    ")\n",
    "print(output)\n",
    "# List of image URLs\n",
    "images_list = ''.join([f'<img src=\"{url}\" style=\"width: 200px; margin: 0px; float: left;\" />' for url in output])\n",
    "# Display the images side by side\n",
    "display(HTML(images_list))"
   ]
  },
  {
   "cell_type": "code",
   "execution_count": 117,
   "metadata": {
    "scrolled": false
   },
   "outputs": [
    {
     "name": "stdout",
     "output_type": "stream",
     "text": [
      "['https://replicate.delivery/pbxt/FpIVrY79pLIvBxfbfD3WvV274hNMnFRSd438V6f2iFzp7hDkA/out-0.png', 'https://replicate.delivery/pbxt/r978fdxniVS1Oi6lYYFa17ISPUeEDDRMNsHy5k0Y9it19wBSA/out-1.png']\n"
     ]
    },
    {
     "data": {
      "text/html": [
       "<img src=\"https://replicate.delivery/pbxt/FpIVrY79pLIvBxfbfD3WvV274hNMnFRSd438V6f2iFzp7hDkA/out-0.png\" style=\"width: 200px; margin: 0px; float: left;\" /><img src=\"https://replicate.delivery/pbxt/r978fdxniVS1Oi6lYYFa17ISPUeEDDRMNsHy5k0Y9it19wBSA/out-1.png\" style=\"width: 200px; margin: 0px; float: left;\" />"
      ],
      "text/plain": [
       "<IPython.core.display.HTML object>"
      ]
     },
     "metadata": {},
     "output_type": "display_data"
    }
   ],
   "source": [
    "output = replicate.run(\n",
    "  \"vkolagotla/bapubomma_ai:109dffee350cd443ca5449745ba553fca623754ee88b367a9908889484272452\",\n",
    "  input={\n",
    "    \"width\": 512,\n",
    "    \"height\": 512,\n",
    "    \"prompt\": \"bapubomma, two brothers walking together in a beautiful south indian village, beautiful village, river, clear faces\",\n",
    "    \"refine\": \"no_refiner\",\n",
    "    \"scheduler\": \"K_EULER\",\n",
    "    \"lora_scale\": 0.8,\n",
    "    \"num_outputs\": 2,\n",
    "    \"guidance_scale\": 7.5,\n",
    "    \"apply_watermark\": True,\n",
    "    \"high_noise_frac\": 0.8,\n",
    "    \"negative_prompt\": \"\",\n",
    "    \"prompt_strength\": 0.8,\n",
    "    \"num_inference_steps\": 50\n",
    "  }\n",
    ")\n",
    "print(output)\n",
    "# List of image URLs\n",
    "images_list = ''.join([f'<img src=\"{url}\" style=\"width: 200px; margin: 0px; float: left;\" />' for url in output])\n",
    "# Display the images side by side\n",
    "display(HTML(images_list))"
   ]
  },
  {
   "cell_type": "code",
   "execution_count": null,
   "metadata": {},
   "outputs": [],
   "source": [
    "# clearly the dataset have too much noise but just wanted to check how the model does with it\n",
    "# lots of cleanup needed to get better results and perpahs remove duplicates? or simillar ones"
   ]
  },
  {
   "cell_type": "markdown",
   "metadata": {},
   "source": [
    "# worked train parameters i.e lr and resolution\n",
    "training_ep_real_10 = replicate.trainings.create(\n",
    "    version=\"stability-ai/sdxl:39ed52f2a78e934b3ba6e2a89f5b1c712de7dfea535525255b1aa35c5565e08b\",\n",
    "    input={\n",
    "        \"input_images\": \"https://vkolagotla.gitlab.io/assets/bapu_ai_train_data_h_kadha.zip\",\n",
    "        \"lora_lr\": 4e-4,\n",
    "        \"num_train_epochs\": 10,\n",
    "        \"max_train_steps\": 500,\n",
    "        \"resolution\": 512,\n",
    "        \"token_string\": \"bapubomma\",\n",
    "        \"caption_prefix\": \"Art, illustrations in the style of indian artist bapu, bapubomma\",\n",
    "    },\n",
    "    destination=\"vkolagotla/bapubomma_ai\"\n",
    "    )\n",
    "## fix lr and resolution as such in this code, until new ways to fine tune found"
   ]
  },
  {
   "cell_type": "markdown",
   "metadata": {},
   "source": [
    "# Finaly model prep, data and params"
   ]
  },
  {
   "cell_type": "code",
   "execution_count": 52,
   "metadata": {},
   "outputs": [],
   "source": [
    "# TODO:\n",
    "\n",
    "# select more images but with diverse style from other works\n",
    "# reduce the num of imgs from h_kadha\n",
    "# no wedding or edit out the green parts from the frames\n",
    "# same for janani, remove the leaves, flowers and just use faces/janani/kid\n",
    "# sue defaults and just increase lr to 4e-4\n",
    "# create a new zip file of not more than 50 images"
   ]
  },
  {
   "cell_type": "markdown",
   "metadata": {},
   "source": [
    "# final dataset includes...\n",
    "### 44(~23MB) images from all of bapu work(9.9MB zip file), handpicked and edited to remove some artifacts.\n",
    "### only focus on faces and bodies\n",
    "### remove some elements from wedding work, and janani like leaves and frames\n",
    "### remove text from the comic style arts"
   ]
  },
  {
   "cell_type": "code",
   "execution_count": null,
   "metadata": {},
   "outputs": [],
   "source": [
    "# final train run for the final total dataset with lr=4e-4, resolution=512"
   ]
  },
  {
   "cell_type": "code",
   "execution_count": 53,
   "metadata": {},
   "outputs": [],
   "source": [
    "training_lr_4e4_final_dataset_v1 = replicate.trainings.create(\n",
    "    version=\"stability-ai/sdxl:39ed52f2a78e934b3ba6e2a89f5b1c712de7dfea535525255b1aa35c5565e08b\",\n",
    "    input={\n",
    "        \"input_images\": \"https://vkolagotla.gitlab.io/assets/bapubomma_ai_final_train_dataset_v1.zip\",\n",
    "        \"lora_lr\": 4e-4,\n",
    "        \"resolution\": 512,\n",
    "        \"token_string\": \"bapubomma\",\n",
    "        \"caption_prefix\": \"Art, illustrations in the style of indian artist bapu, bapubomma\",\n",
    "    },\n",
    "    destination=\"vkolagotla/bapubomma_ai\"\n",
    ")"
   ]
  },
  {
   "cell_type": "code",
   "execution_count": null,
   "metadata": {},
   "outputs": [],
   "source": [
    "# model at replicate \"vkolagotla/bapubomma_ai:572fa33614e484e0d9f7707707d5e1f04f00c968b733c8609647d9a2d9a523ff\","
   ]
  },
  {
   "cell_type": "code",
   "execution_count": 120,
   "metadata": {},
   "outputs": [
    {
     "name": "stdout",
     "output_type": "stream",
     "text": [
      "['https://replicate.delivery/pbxt/faJD4ZDtgfspEUjzYboGRZfh4RTLsYt2uUyEE5eFCgDMZEHIB/out-0.png', 'https://replicate.delivery/pbxt/ZUHEhfgVonVFTqQqme6EaeTAy7YsVBtDEEJhdLe6lKVRZEHIB/out-1.png', 'https://replicate.delivery/pbxt/iSFc6aBKqYpLHd7yA3v7QjJC0k4KrY2FJjpaUeMkXreVGxBSA/out-2.png']\n"
     ]
    },
    {
     "data": {
      "text/html": [
       "<img src=\"https://replicate.delivery/pbxt/faJD4ZDtgfspEUjzYboGRZfh4RTLsYt2uUyEE5eFCgDMZEHIB/out-0.png\" style=\"width: 200px; margin: 0px; float: left;\" /><img src=\"https://replicate.delivery/pbxt/ZUHEhfgVonVFTqQqme6EaeTAy7YsVBtDEEJhdLe6lKVRZEHIB/out-1.png\" style=\"width: 200px; margin: 0px; float: left;\" /><img src=\"https://replicate.delivery/pbxt/iSFc6aBKqYpLHd7yA3v7QjJC0k4KrY2FJjpaUeMkXreVGxBSA/out-2.png\" style=\"width: 200px; margin: 0px; float: left;\" />"
      ],
      "text/plain": [
       "<IPython.core.display.HTML object>"
      ]
     },
     "metadata": {},
     "output_type": "display_data"
    }
   ],
   "source": [
    "output = replicate.run(\n",
    "  \"vkolagotla/bapubomma_ai:572fa33614e484e0d9f7707707d5e1f04f00c968b733c8609647d9a2d9a523ff\",\n",
    "  input={\n",
    "    \"width\": 512,\n",
    "    \"height\": 512,\n",
    "    \"prompt\": \"bapubomma, two brothers walking together in a beautiful south indian village, beautiful village, river, clear faces\",\n",
    "    \"refine\": \"no_refiner\",\n",
    "    \"scheduler\": \"K_EULER\",\n",
    "    \"lora_scale\": 0.8,\n",
    "    \"num_outputs\": 3,\n",
    "    \"guidance_scale\": 7.5,\n",
    "    \"apply_watermark\": True,\n",
    "    \"high_noise_frac\": 0.8,\n",
    "    \"negative_prompt\": \"\",\n",
    "    \"prompt_strength\": 0.8,\n",
    "    \"num_inference_steps\": 50\n",
    "  }\n",
    ")\n",
    "print(output)\n",
    "# List of image URLs\n",
    "images_list = ''.join([f'<img src=\"{url}\" style=\"width: 200px; margin: 0px; float: left;\" />' for url in output])\n",
    "# Display the images side by side\n",
    "display(HTML(images_list))"
   ]
  },
  {
   "cell_type": "code",
   "execution_count": 119,
   "metadata": {
    "scrolled": true
   },
   "outputs": [
    {
     "name": "stdout",
     "output_type": "stream",
     "text": [
      "['https://replicate.delivery/pbxt/fhnG1p5F7pSIDK0XuegXNjABRMYL4IgYaSIyq4hM5u9DGxBSA/out-0.png', 'https://replicate.delivery/pbxt/3fxBS4ejZ4uNBUAtlD7bUpvD19O8fIWvaKB7COOWE7VLMiDkA/out-1.png', 'https://replicate.delivery/pbxt/826Rf7Qb3C30VaOhfGhXw3ODhAHMb2JNu2ZTUeAcl6oKMiDkA/out-2.png']\n"
     ]
    },
    {
     "data": {
      "text/html": [
       "<img src=\"https://replicate.delivery/pbxt/fhnG1p5F7pSIDK0XuegXNjABRMYL4IgYaSIyq4hM5u9DGxBSA/out-0.png\" style=\"width: 200px; margin: 0px; float: left;\" /><img src=\"https://replicate.delivery/pbxt/3fxBS4ejZ4uNBUAtlD7bUpvD19O8fIWvaKB7COOWE7VLMiDkA/out-1.png\" style=\"width: 200px; margin: 0px; float: left;\" /><img src=\"https://replicate.delivery/pbxt/826Rf7Qb3C30VaOhfGhXw3ODhAHMb2JNu2ZTUeAcl6oKMiDkA/out-2.png\" style=\"width: 200px; margin: 0px; float: left;\" />"
      ],
      "text/plain": [
       "<IPython.core.display.HTML object>"
      ]
     },
     "metadata": {},
     "output_type": "display_data"
    }
   ],
   "source": [
    "output = replicate.run(\n",
    "  \"vkolagotla/bapubomma_ai:572fa33614e484e0d9f7707707d5e1f04f00c968b733c8609647d9a2d9a523ff\",\n",
    "  input={\n",
    "    \"width\": 512,\n",
    "    \"height\": 512,\n",
    "    \"prompt\": \"bapubomma, two sisters walking together in a beautiful south french village, beautiful village, river, clear faces\",\n",
    "    \"refine\": \"no_refiner\",\n",
    "    \"scheduler\": \"K_EULER\",\n",
    "    \"lora_scale\": 0.9,\n",
    "    \"num_outputs\": 3,\n",
    "    \"guidance_scale\": 7.5,\n",
    "    \"apply_watermark\": True,\n",
    "    \"high_noise_frac\": 0.8,\n",
    "    \"negative_prompt\": \"\",\n",
    "    \"prompt_strength\": 0.8,\n",
    "    \"num_inference_steps\": 50\n",
    "  }\n",
    ")\n",
    "print(output)\n",
    "# List of image URLs\n",
    "images_list = ''.join([f'<img src=\"{url}\" style=\"width: 200px; margin: 0px; float: left;\" />' for url in output])\n",
    "# Display the images side by side\n",
    "display(HTML(images_list))"
   ]
  },
  {
   "cell_type": "code",
   "execution_count": 121,
   "metadata": {},
   "outputs": [
    {
     "name": "stdout",
     "output_type": "stream",
     "text": [
      "['https://replicate.delivery/pbxt/OxktUf3zwmSpfk3wzY155NuoxActP0dAy6yMiSIieBnHNiDkA/out-0.png', 'https://replicate.delivery/pbxt/00Y6LURFra5YI9aArElzAe5x1Qwgm6cbBe4Iwv6GwXfINiDkA/out-1.png', 'https://replicate.delivery/pbxt/kdAesDzzfprtW0Hg1BSMtdN8C7h6UlbuaOoDNOS3toeLNiDkA/out-2.png']\n"
     ]
    },
    {
     "data": {
      "text/html": [
       "<img src=\"https://replicate.delivery/pbxt/OxktUf3zwmSpfk3wzY155NuoxActP0dAy6yMiSIieBnHNiDkA/out-0.png\" style=\"width: 200px; margin: 0px; float: left;\" /><img src=\"https://replicate.delivery/pbxt/00Y6LURFra5YI9aArElzAe5x1Qwgm6cbBe4Iwv6GwXfINiDkA/out-1.png\" style=\"width: 200px; margin: 0px; float: left;\" /><img src=\"https://replicate.delivery/pbxt/kdAesDzzfprtW0Hg1BSMtdN8C7h6UlbuaOoDNOS3toeLNiDkA/out-2.png\" style=\"width: 200px; margin: 0px; float: left;\" />"
      ],
      "text/plain": [
       "<IPython.core.display.HTML object>"
      ]
     },
     "metadata": {},
     "output_type": "display_data"
    }
   ],
   "source": [
    "output = replicate.run(\n",
    "  \"vkolagotla/bapubomma_ai:572fa33614e484e0d9f7707707d5e1f04f00c968b733c8609647d9a2d9a523ff\",\n",
    "  input={\n",
    "    \"width\": 512,\n",
    "    \"height\": 512,\n",
    "    \"prompt\": \"bapubomma, two brothers walking together in a beautiful south swiss village, beautiful village, river, clear faces\",\n",
    "    \"refine\": \"no_refiner\",\n",
    "    \"scheduler\": \"K_EULER\",\n",
    "    \"lora_scale\": 0.9,\n",
    "    \"num_outputs\": 3,\n",
    "    \"guidance_scale\": 7.5,\n",
    "    \"apply_watermark\": True,\n",
    "    \"high_noise_frac\": 0.8,\n",
    "    \"negative_prompt\": \"\",\n",
    "    \"prompt_strength\": 0.8,\n",
    "    \"num_inference_steps\": 50\n",
    "  }\n",
    ")\n",
    "print(output)\n",
    "# List of image URLs\n",
    "images_list = ''.join([f'<img src=\"{url}\" style=\"width: 200px; margin: 0px; float: left;\" />' for url in output])\n",
    "# Display the images side by side\n",
    "display(HTML(images_list))"
   ]
  },
  {
   "cell_type": "code",
   "execution_count": 122,
   "metadata": {},
   "outputs": [
    {
     "name": "stdout",
     "output_type": "stream",
     "text": [
      "['https://replicate.delivery/pbxt/nGCfy8Z2YYy8FqNCkBSPGJgin6sqV5ItXr2SsbECUyvZj4AJA/out-0.png', 'https://replicate.delivery/pbxt/AE0nQ5QAefgYBkRsfGDoA6kNuAXNqBySXqLyWbShUjnpNiDkA/out-1.png', 'https://replicate.delivery/pbxt/SO1vkYbfKKQPE6bPRv1re3Rf7exKrcHV5e41Lnlxucvt2IOQC/out-2.png']\n"
     ]
    },
    {
     "data": {
      "text/html": [
       "<img src=\"https://replicate.delivery/pbxt/nGCfy8Z2YYy8FqNCkBSPGJgin6sqV5ItXr2SsbECUyvZj4AJA/out-0.png\" style=\"width: 200px; margin: 0px; float: left;\" /><img src=\"https://replicate.delivery/pbxt/AE0nQ5QAefgYBkRsfGDoA6kNuAXNqBySXqLyWbShUjnpNiDkA/out-1.png\" style=\"width: 200px; margin: 0px; float: left;\" /><img src=\"https://replicate.delivery/pbxt/SO1vkYbfKKQPE6bPRv1re3Rf7exKrcHV5e41Lnlxucvt2IOQC/out-2.png\" style=\"width: 200px; margin: 0px; float: left;\" />"
      ],
      "text/plain": [
       "<IPython.core.display.HTML object>"
      ]
     },
     "metadata": {},
     "output_type": "display_data"
    }
   ],
   "source": [
    "output = replicate.run(\n",
    "  \"vkolagotla/bapubomma_ai:572fa33614e484e0d9f7707707d5e1f04f00c968b733c8609647d9a2d9a523ff\",\n",
    "  input={\n",
    "    \"width\": 512,\n",
    "    \"height\": 512,\n",
    "    \"prompt\": \"bapubomma, two sisters walking together in a beautiful south swiss village, beautiful village, river, clear faces\",\n",
    "    \"refine\": \"no_refiner\",\n",
    "    \"scheduler\": \"K_EULER\",\n",
    "    \"lora_scale\": 0.9,\n",
    "    \"num_outputs\": 3,\n",
    "    \"guidance_scale\": 7.5,\n",
    "    \"apply_watermark\": True,\n",
    "    \"high_noise_frac\": 0.8,\n",
    "    \"negative_prompt\": \"\",\n",
    "    \"prompt_strength\": 0.8,\n",
    "    \"num_inference_steps\": 50\n",
    "  }\n",
    ")\n",
    "print(output)\n",
    "# List of image URLs\n",
    "images_list = ''.join([f'<img src=\"{url}\" style=\"width: 200px; margin: 0px; float: left;\" />' for url in output])\n",
    "# Display the images side by side\n",
    "display(HTML(images_list))"
   ]
  },
  {
   "cell_type": "code",
   "execution_count": 123,
   "metadata": {},
   "outputs": [
    {
     "name": "stdout",
     "output_type": "stream",
     "text": [
      "['https://replicate.delivery/pbxt/hTuEfTfsbKhDmUhd5oJUg4CI7equTCJSevsjWbX77KlIcEHIB/out-0.png', 'https://replicate.delivery/pbxt/QZqjYq5sTd6sCZM4L8eQ7kYwTrxiDYNagZmoaz70JTCij4AJA/out-1.png', 'https://replicate.delivery/pbxt/QtwT2rfdyEV2f0gk4MnVyIZQty0ZxDPOLfAGsCCKwPnJOiDkA/out-2.png']\n"
     ]
    },
    {
     "data": {
      "text/html": [
       "<img src=\"https://replicate.delivery/pbxt/hTuEfTfsbKhDmUhd5oJUg4CI7equTCJSevsjWbX77KlIcEHIB/out-0.png\" style=\"width: 200px; margin: 0px; float: left;\" /><img src=\"https://replicate.delivery/pbxt/QZqjYq5sTd6sCZM4L8eQ7kYwTrxiDYNagZmoaz70JTCij4AJA/out-1.png\" style=\"width: 200px; margin: 0px; float: left;\" /><img src=\"https://replicate.delivery/pbxt/QtwT2rfdyEV2f0gk4MnVyIZQty0ZxDPOLfAGsCCKwPnJOiDkA/out-2.png\" style=\"width: 200px; margin: 0px; float: left;\" />"
      ],
      "text/plain": [
       "<IPython.core.display.HTML object>"
      ]
     },
     "metadata": {},
     "output_type": "display_data"
    }
   ],
   "source": [
    "output = replicate.run(\n",
    "  \"vkolagotla/bapubomma_ai:572fa33614e484e0d9f7707707d5e1f04f00c968b733c8609647d9a2d9a523ff\",\n",
    "  input={\n",
    "    \"width\": 512,\n",
    "    \"height\": 512,\n",
    "    \"prompt\": \"bapubomma, two sisters walking together in a beautiful south india village, beautiful village, river, clear faces\",\n",
    "    \"refine\": \"no_refiner\",\n",
    "    \"scheduler\": \"K_EULER\",\n",
    "    \"lora_scale\": 0.9,\n",
    "    \"num_outputs\": 3,\n",
    "    \"guidance_scale\": 7.5,\n",
    "    \"apply_watermark\": True,\n",
    "    \"high_noise_frac\": 0.8,\n",
    "    \"negative_prompt\": \"\",\n",
    "    \"prompt_strength\": 0.8,\n",
    "    \"num_inference_steps\": 50\n",
    "  }\n",
    ")\n",
    "print(output)\n",
    "# List of image URLs\n",
    "images_list = ''.join([f'<img src=\"{url}\" style=\"width: 200px; margin: 0px; float: left;\" />' for url in output])\n",
    "# Display the images side by side\n",
    "display(HTML(images_list))"
   ]
  },
  {
   "cell_type": "code",
   "execution_count": 124,
   "metadata": {},
   "outputs": [
    {
     "name": "stdout",
     "output_type": "stream",
     "text": [
      "['https://replicate.delivery/pbxt/qspgTA2iHhbXBRUKjtz66n9ynJA59AjktXpu3VpZ6yc2RcgE/out-0.png', 'https://replicate.delivery/pbxt/9Y1PfQk0qORuBaWIWLMhf1YA8lDei1JpeN3TbAm1jezZ7IOQC/out-1.png', 'https://replicate.delivery/pbxt/dYPhHfF8Kc1sSKdX3yCf4mMhPXHismJ8NMffezhBXgxZ7IOQC/out-2.png']\n"
     ]
    },
    {
     "data": {
      "text/html": [
       "<img src=\"https://replicate.delivery/pbxt/qspgTA2iHhbXBRUKjtz66n9ynJA59AjktXpu3VpZ6yc2RcgE/out-0.png\" style=\"width: 200px; margin: 0px; float: left;\" /><img src=\"https://replicate.delivery/pbxt/9Y1PfQk0qORuBaWIWLMhf1YA8lDei1JpeN3TbAm1jezZ7IOQC/out-1.png\" style=\"width: 200px; margin: 0px; float: left;\" /><img src=\"https://replicate.delivery/pbxt/dYPhHfF8Kc1sSKdX3yCf4mMhPXHismJ8NMffezhBXgxZ7IOQC/out-2.png\" style=\"width: 200px; margin: 0px; float: left;\" />"
      ],
      "text/plain": [
       "<IPython.core.display.HTML object>"
      ]
     },
     "metadata": {},
     "output_type": "display_data"
    }
   ],
   "source": [
    "output = replicate.run(\n",
    "  \"vkolagotla/bapubomma_ai:572fa33614e484e0d9f7707707d5e1f04f00c968b733c8609647d9a2d9a523ff\",\n",
    "  input={\n",
    "    \"width\": 512,\n",
    "    \"height\": 512,\n",
    "    \"prompt\": \"bapubomma, two sisters walking together in a beautiful south india village, beautiful village, river, clear faces, no face deformities, perfect human structure, artistic illustrations\",\n",
    "    \"refine\": \"no_refiner\",\n",
    "    \"scheduler\": \"K_EULER\",\n",
    "    \"lora_scale\": 0.9,\n",
    "    \"num_outputs\": 3,\n",
    "    \"guidance_scale\": 7.5,\n",
    "    \"apply_watermark\": True,\n",
    "    \"high_noise_frac\": 0.8,\n",
    "    \"negative_prompt\": \"\",\n",
    "    \"prompt_strength\": 0.8,\n",
    "    \"num_inference_steps\": 50\n",
    "  }\n",
    ")\n",
    "print(output)\n",
    "# List of image URLs\n",
    "images_list = ''.join([f'<img src=\"{url}\" style=\"width: 200px; margin: 0px; float: left;\" />' for url in output])\n",
    "# Display the images side by side\n",
    "display(HTML(images_list))"
   ]
  },
  {
   "cell_type": "code",
   "execution_count": 126,
   "metadata": {},
   "outputs": [
    {
     "name": "stdout",
     "output_type": "stream",
     "text": [
      "['https://replicate.delivery/pbxt/dePKjlcJRXSBDCkYof8Es2Dkto7a2W9t82fXdEbzPYBhQiDkA/out-0.png', 'https://replicate.delivery/pbxt/12BogfvDL5z0SKO9uIUezCO5Fg8AXZ1Jw8Pb5wt6r6EQIxBSA/out-1.png', 'https://replicate.delivery/pbxt/P226eJfQWCn02U96lyTYOVTa4AQF2mknObTdOLdQPvRQIxBSA/out-2.png']\n"
     ]
    },
    {
     "data": {
      "text/html": [
       "<img src=\"https://replicate.delivery/pbxt/dePKjlcJRXSBDCkYof8Es2Dkto7a2W9t82fXdEbzPYBhQiDkA/out-0.png\" style=\"width: 200px; margin: 0px; float: left;\" /><img src=\"https://replicate.delivery/pbxt/12BogfvDL5z0SKO9uIUezCO5Fg8AXZ1Jw8Pb5wt6r6EQIxBSA/out-1.png\" style=\"width: 200px; margin: 0px; float: left;\" /><img src=\"https://replicate.delivery/pbxt/P226eJfQWCn02U96lyTYOVTa4AQF2mknObTdOLdQPvRQIxBSA/out-2.png\" style=\"width: 200px; margin: 0px; float: left;\" />"
      ],
      "text/plain": [
       "<IPython.core.display.HTML object>"
      ]
     },
     "metadata": {},
     "output_type": "display_data"
    }
   ],
   "source": [
    "output = replicate.run(\n",
    "  \"vkolagotla/bapubomma_ai:572fa33614e484e0d9f7707707d5e1f04f00c968b733c8609647d9a2d9a523ff\",\n",
    "  input={\n",
    "    \"width\": 512,\n",
    "    \"height\": 512,\n",
    "    \"prompt\": \"bapubomma, two sisters walking together in a beautiful south india village, beautiful village, river, clear faces, no face deformities, perfect human structure, artistic illustrations, monoschrome, black and white\",\n",
    "    \"refine\": \"no_refiner\",\n",
    "    \"scheduler\": \"K_EULER\",\n",
    "    \"lora_scale\": 0.9,\n",
    "    \"num_outputs\": 3,\n",
    "    \"guidance_scale\": 7.5,\n",
    "    \"apply_watermark\": True,\n",
    "    \"high_noise_frac\": 0.8,\n",
    "    \"negative_prompt\": \"\",\n",
    "    \"prompt_strength\": 0.8,\n",
    "    \"num_inference_steps\": 50\n",
    "  }\n",
    ")\n",
    "print(output)\n",
    "# List of image URLs\n",
    "images_list = ''.join([f'<img src=\"{url}\" style=\"width: 200px; margin: 0px; float: left;\" />' for url in output])\n",
    "# Display the images side by side\n",
    "display(HTML(images_list))"
   ]
  },
  {
   "cell_type": "code",
   "execution_count": null,
   "metadata": {},
   "outputs": [],
   "source": [
    "# update prompts and introduce negative prompts to improve the results"
   ]
  },
  {
   "cell_type": "code",
   "execution_count": 127,
   "metadata": {},
   "outputs": [
    {
     "name": "stdout",
     "output_type": "stream",
     "text": [
      "['https://replicate.delivery/pbxt/2GMDUI09tk7COtbv5EAtDyRAayqgZGGKZ5dBuyYCfdvPk4AJA/out-0.png', 'https://replicate.delivery/pbxt/7aveMbfkZ1qeBpbzwE6c59K5et4Ix02HvD9WZf3Z0J4AEJOQC/out-1.png', 'https://replicate.delivery/pbxt/N1GRL8138WKrOZ2Chafe8kHz5IggkAhznWhZwGeZl8fBiEHIB/out-2.png']\n"
     ]
    },
    {
     "data": {
      "text/html": [
       "<img src=\"https://replicate.delivery/pbxt/2GMDUI09tk7COtbv5EAtDyRAayqgZGGKZ5dBuyYCfdvPk4AJA/out-0.png\" style=\"width: 200px; margin: 0px; float: left;\" /><img src=\"https://replicate.delivery/pbxt/7aveMbfkZ1qeBpbzwE6c59K5et4Ix02HvD9WZf3Z0J4AEJOQC/out-1.png\" style=\"width: 200px; margin: 0px; float: left;\" /><img src=\"https://replicate.delivery/pbxt/N1GRL8138WKrOZ2Chafe8kHz5IggkAhznWhZwGeZl8fBiEHIB/out-2.png\" style=\"width: 200px; margin: 0px; float: left;\" />"
      ],
      "text/plain": [
       "<IPython.core.display.HTML object>"
      ]
     },
     "metadata": {},
     "output_type": "display_data"
    }
   ],
   "source": [
    "output = replicate.run(\n",
    "  \"vkolagotla/bapubomma_ai:572fa33614e484e0d9f7707707d5e1f04f00c968b733c8609647d9a2d9a523ff\",\n",
    "  input={\n",
    "    \"width\": 512,\n",
    "    \"height\": 512,\n",
    "    \"prompt\": \"bapubomma, A car and a bike going towards taj mahal on a wide and long road with mountians behind taj mahal, no street lights, 1940s style, lush trees and beautiful flowers\",\n",
    "    \"refine\": \"no_refiner\",\n",
    "    \"scheduler\": \"K_EULER\",\n",
    "    \"lora_scale\": 0.9,\n",
    "    \"num_outputs\": 3,\n",
    "    \"guidance_scale\": 7.5,\n",
    "    \"apply_watermark\": True,\n",
    "    \"high_noise_frac\": 0.8,\n",
    "    \"negative_prompt\": \"face and body deformities, abnormal human structure, abnormal shapes and structures, non-artistic illustrations\",\n",
    "    \"prompt_strength\": 0.8,\n",
    "    \"num_inference_steps\": 50\n",
    "  }\n",
    ")\n",
    "print(output)\n",
    "# List of image URLs\n",
    "images_list = ''.join([f'<img src=\"{url}\" style=\"width: 200px; margin: 0px; float: left;\" />' for url in output])\n",
    "# Display the images side by side\n",
    "display(HTML(images_list))"
   ]
  },
  {
   "cell_type": "code",
   "execution_count": 128,
   "metadata": {
    "scrolled": true
   },
   "outputs": [
    {
     "name": "stdout",
     "output_type": "stream",
     "text": [
      "['https://replicate.delivery/pbxt/WOXIXuqhtu4fKappudG6EaNH1YebjIbL4OpD2ksKvVrdJxBSA/out-0.png', 'https://replicate.delivery/pbxt/2OOCEteh30wgL645dQpf3WfoR3yXcsH7IKPEUIxv3WH9SiDkA/out-1.png', 'https://replicate.delivery/pbxt/a64ksswqxhajMluaywx2zZsXn2wM0Mnejv82gFpklHGvk4AJA/out-2.png']\n"
     ]
    },
    {
     "data": {
      "text/html": [
       "<img src=\"https://replicate.delivery/pbxt/WOXIXuqhtu4fKappudG6EaNH1YebjIbL4OpD2ksKvVrdJxBSA/out-0.png\" style=\"width: 200px; margin: 0px; float: left;\" /><img src=\"https://replicate.delivery/pbxt/2OOCEteh30wgL645dQpf3WfoR3yXcsH7IKPEUIxv3WH9SiDkA/out-1.png\" style=\"width: 200px; margin: 0px; float: left;\" /><img src=\"https://replicate.delivery/pbxt/a64ksswqxhajMluaywx2zZsXn2wM0Mnejv82gFpklHGvk4AJA/out-2.png\" style=\"width: 200px; margin: 0px; float: left;\" />"
      ],
      "text/plain": [
       "<IPython.core.display.HTML object>"
      ]
     },
     "metadata": {},
     "output_type": "display_data"
    }
   ],
   "source": [
    "output = replicate.run(\n",
    "  \"vkolagotla/bapubomma_ai:572fa33614e484e0d9f7707707d5e1f04f00c968b733c8609647d9a2d9a523ff\",\n",
    "  input={\n",
    "    \"width\": 512,\n",
    "    \"height\": 512,\n",
    "    \"prompt\": \"bapubomma, two sisters walking together in a beautiful south india village, beautiful village, river, clear faces, artistic illustrations\",\n",
    "    \"refine\": \"no_refiner\",\n",
    "    \"scheduler\": \"K_EULER\",\n",
    "    \"lora_scale\": 0.9,\n",
    "    \"num_outputs\": 3,\n",
    "    \"guidance_scale\": 7.5,\n",
    "    \"apply_watermark\": True,\n",
    "    \"high_noise_frac\": 0.8,\n",
    "    \"negative_prompt\": \"face and body deformities, abnormal human structure, abnormal shapes and structures, non-artistic illustrations\",\n",
    "    \"prompt_strength\": 0.8,\n",
    "    \"num_inference_steps\": 100\n",
    "  }\n",
    ")\n",
    "print(output)\n",
    "# List of image URLs\n",
    "images_list = ''.join([f'<img src=\"{url}\" style=\"width: 200px; margin: 0px; float: left;\" />' for url in output])\n",
    "# Display the images side by side\n",
    "display(HTML(images_list))"
   ]
  },
  {
   "cell_type": "code",
   "execution_count": 133,
   "metadata": {},
   "outputs": [
    {
     "name": "stdout",
     "output_type": "stream",
     "text": [
      "['https://replicate.delivery/pbxt/nVjVVGnVFbqNDFqctAUWzwQcXMbwD85stCy8oNHymbJCacgE/out-0.png', 'https://replicate.delivery/pbxt/OgPebHFdc3zOa6XdJhAumesGzineRP6UihYASv69QeujgGHIB/out-1.png', 'https://replicate.delivery/pbxt/Uv6LNjwdIm6QOtQltQWSO1fnft1KZeSOAS3Rf3ZcK5NigGHIB/out-2.png']\n"
     ]
    },
    {
     "data": {
      "text/html": [
       "<img src=\"https://replicate.delivery/pbxt/nVjVVGnVFbqNDFqctAUWzwQcXMbwD85stCy8oNHymbJCacgE/out-0.png\" style=\"width: 200px; margin: 0px; float: left;\" /><img src=\"https://replicate.delivery/pbxt/OgPebHFdc3zOa6XdJhAumesGzineRP6UihYASv69QeujgGHIB/out-1.png\" style=\"width: 200px; margin: 0px; float: left;\" /><img src=\"https://replicate.delivery/pbxt/Uv6LNjwdIm6QOtQltQWSO1fnft1KZeSOAS3Rf3ZcK5NigGHIB/out-2.png\" style=\"width: 200px; margin: 0px; float: left;\" />"
      ],
      "text/plain": [
       "<IPython.core.display.HTML object>"
      ]
     },
     "metadata": {},
     "output_type": "display_data"
    }
   ],
   "source": [
    "output = replicate.run(\n",
    "  \"vkolagotla/bapubomma_ai:572fa33614e484e0d9f7707707d5e1f04f00c968b733c8609647d9a2d9a523ff\",\n",
    "  input={\n",
    "    \"width\": 256,\n",
    "    \"height\": 256,\n",
    "    \"prompt\": \"bapubomma, two sisters walking together in a beautiful south india village, beautiful village, river, clear faces, artistic illustrations\",\n",
    "    \"refine\": \"no_refiner\",\n",
    "    \"scheduler\": \"K_EULER\",\n",
    "    \"lora_scale\": 0.9,\n",
    "    \"num_outputs\": 3,\n",
    "    \"guidance_scale\": 7.5,\n",
    "    \"apply_watermark\": True,\n",
    "    \"high_noise_frac\": 0.8,\n",
    "    \"negative_prompt\": \"face and body deformities, abnormal human structure, abnormal shapes and structures, non-artistic illustrations\",\n",
    "    \"prompt_strength\": 0.8,\n",
    "    \"num_inference_steps\": 100\n",
    "  }\n",
    ")\n",
    "print(output)\n",
    "# List of image URLs\n",
    "images_list = ''.join([f'<img src=\"{url}\" style=\"width: 200px; margin: 0px; float: left;\" />' for url in output])\n",
    "# Display the images side by side\n",
    "display(HTML(images_list))"
   ]
  },
  {
   "cell_type": "code",
   "execution_count": null,
   "metadata": {},
   "outputs": [],
   "source": [
    "# 256 resolution looks better in the final train run but obv not good enough"
   ]
  },
  {
   "cell_type": "code",
   "execution_count": 129,
   "metadata": {},
   "outputs": [
    {
     "name": "stdout",
     "output_type": "stream",
     "text": [
      "['https://replicate.delivery/pbxt/G4axboofeClbjECZlOTfJE5wMIA3eyp3Kf6JwD7aBGbkPJOQC/out-0.png', 'https://replicate.delivery/pbxt/OJeyeE6I5njNwEDDlnUoOqvNvxkYvPeD6iwSBdLktSX6TiDkA/out-1.png', 'https://replicate.delivery/pbxt/2Jjm4HM5cr6eRydTp8bSE7EO1PLRPgbdShyJuILl1p1eJxBSA/out-2.png']\n"
     ]
    },
    {
     "data": {
      "text/html": [
       "<img src=\"https://replicate.delivery/pbxt/G4axboofeClbjECZlOTfJE5wMIA3eyp3Kf6JwD7aBGbkPJOQC/out-0.png\" style=\"width: 200px; margin: 0px; float: left;\" /><img src=\"https://replicate.delivery/pbxt/OJeyeE6I5njNwEDDlnUoOqvNvxkYvPeD6iwSBdLktSX6TiDkA/out-1.png\" style=\"width: 200px; margin: 0px; float: left;\" /><img src=\"https://replicate.delivery/pbxt/2Jjm4HM5cr6eRydTp8bSE7EO1PLRPgbdShyJuILl1p1eJxBSA/out-2.png\" style=\"width: 200px; margin: 0px; float: left;\" />"
      ],
      "text/plain": [
       "<IPython.core.display.HTML object>"
      ]
     },
     "metadata": {},
     "output_type": "display_data"
    }
   ],
   "source": [
    "output = replicate.run(\n",
    "  \"vkolagotla/bapubomma_ai:572fa33614e484e0d9f7707707d5e1f04f00c968b733c8609647d9a2d9a523ff\",\n",
    "  input={\n",
    "    \"width\": 512,\n",
    "    \"height\": 512,\n",
    "    \"prompt\": \"bapubomma, Lord Rama and Sita walking together in a beautiful south Indian village near godhavari, river, clear faces\",\n",
    "    \"refine\": \"no_refiner\",\n",
    "    \"scheduler\": \"K_EULER\",\n",
    "    \"lora_scale\": 0.9,\n",
    "    \"num_outputs\": 3,\n",
    "    \"guidance_scale\": 7.5,\n",
    "    \"apply_watermark\": True,\n",
    "    \"high_noise_frac\": 0.8,\n",
    "    \"negative_prompt\": \"face and body deformities, abnormal human structure, abnormal shapes and structures, non-artistic illustrations\",\n",
    "    \"prompt_strength\": 0.8,\n",
    "    \"num_inference_steps\": 100\n",
    "  }\n",
    ")\n",
    "print(output)\n",
    "# List of image URLs\n",
    "images_list = ''.join([f'<img src=\"{url}\" style=\"width: 200px; margin: 0px; float: left;\" />' for url in output])\n",
    "# Display the images side by side\n",
    "display(HTML(images_list))"
   ]
  },
  {
   "cell_type": "code",
   "execution_count": 130,
   "metadata": {},
   "outputs": [
    {
     "name": "stdout",
     "output_type": "stream",
     "text": [
      "['https://replicate.delivery/pbxt/6AfpBY89ocV3fkORSeTf37iU6PDinczNZO1LhA2Xc3FitEHIB/out-0.png', 'https://replicate.delivery/pbxt/swieTpfLd6u9pEteQIu9mWOaKf3lva0il86cFvEnXVaitEHIB/out-1.png', 'https://replicate.delivery/pbxt/Stj7bVcX1sbXDxTGgbB0JdVmOMMXRM9HUvVD4MYIepIsl4AJA/out-2.png']\n"
     ]
    },
    {
     "data": {
      "text/html": [
       "<img src=\"https://replicate.delivery/pbxt/6AfpBY89ocV3fkORSeTf37iU6PDinczNZO1LhA2Xc3FitEHIB/out-0.png\" style=\"width: 200px; margin: 0px; float: left;\" /><img src=\"https://replicate.delivery/pbxt/swieTpfLd6u9pEteQIu9mWOaKf3lva0il86cFvEnXVaitEHIB/out-1.png\" style=\"width: 200px; margin: 0px; float: left;\" /><img src=\"https://replicate.delivery/pbxt/Stj7bVcX1sbXDxTGgbB0JdVmOMMXRM9HUvVD4MYIepIsl4AJA/out-2.png\" style=\"width: 200px; margin: 0px; float: left;\" />"
      ],
      "text/plain": [
       "<IPython.core.display.HTML object>"
      ]
     },
     "metadata": {},
     "output_type": "display_data"
    }
   ],
   "source": [
    "# use image as reference to do a img to img sorta style transfer \n",
    "output = replicate.run(\n",
    "  \"vkolagotla/bapubomma_ai:572fa33614e484e0d9f7707707d5e1f04f00c968b733c8609647d9a2d9a523ff\",\n",
    "  input={\n",
    "    \"image\": \"https://imgs.search.brave.com/VGXMxh4QA-tdXcyLVn-TH2w8Ys-64CXqJk3z_oxxw_g/rs:fit:860:0:0/g:ce/aHR0cHM6Ly9pLnBp/bmltZy5jb20vb3Jp/Z2luYWxzLzk3L2Qw/L2MxLzk3ZDBjMTlh/NTAxMDRlNmFmYzVi/YjZmMTEyNDBmYTk4/LmpwZw\",\n",
    "    \"width\": 512,\n",
    "    \"height\": 512,\n",
    "    \"prompt\": \"bapubomma, sachin holding a cricket world cup\",\n",
    "    \"refine\": \"no_refiner\",\n",
    "    \"scheduler\": \"K_EULER\",\n",
    "    \"lora_scale\": 0.9,\n",
    "    \"num_outputs\": 3,\n",
    "    \"guidance_scale\": 7.5,\n",
    "    \"apply_watermark\": True,\n",
    "    \"high_noise_frac\": 0.8,\n",
    "    \"negative_prompt\": \"face and body deformities, abnormal human structure, abnormal shapes and structures, non-artistic illustrations\",\n",
    "    \"prompt_strength\": 0.8,\n",
    "    \"num_inference_steps\": 100\n",
    "  }\n",
    ")\n",
    "print(output)\n",
    "# List of image URLs\n",
    "images_list = ''.join([f'<img src=\"{url}\" style=\"width: 200px; margin: 0px; float: left;\" />' for url in output])\n",
    "# Display the images side by side\n",
    "display(HTML(images_list))"
   ]
  },
  {
   "cell_type": "code",
   "execution_count": 131,
   "metadata": {},
   "outputs": [
    {
     "name": "stdout",
     "output_type": "stream",
     "text": [
      "['https://replicate.delivery/pbxt/Zjul5umbZJIIOllb2sWxgevmtuCWRY5GsYwwfT4tfinfuEHIB/out-0.png', 'https://replicate.delivery/pbxt/qITgLQmSce0FP62RWjAahVzWgNUH2jOiNtRDgEm2ehpvLxBSA/out-1.png', 'https://replicate.delivery/pbxt/SYGeVzDgtF3VLqPVZPU2djeqkFfANzyQwmqISwvyZBZfuEHIB/out-2.png']\n"
     ]
    },
    {
     "data": {
      "text/html": [
       "<img src=\"https://replicate.delivery/pbxt/Zjul5umbZJIIOllb2sWxgevmtuCWRY5GsYwwfT4tfinfuEHIB/out-0.png\" style=\"width: 200px; margin: 0px; float: left;\" /><img src=\"https://replicate.delivery/pbxt/qITgLQmSce0FP62RWjAahVzWgNUH2jOiNtRDgEm2ehpvLxBSA/out-1.png\" style=\"width: 200px; margin: 0px; float: left;\" /><img src=\"https://replicate.delivery/pbxt/SYGeVzDgtF3VLqPVZPU2djeqkFfANzyQwmqISwvyZBZfuEHIB/out-2.png\" style=\"width: 200px; margin: 0px; float: left;\" />"
      ],
      "text/plain": [
       "<IPython.core.display.HTML object>"
      ]
     },
     "metadata": {},
     "output_type": "display_data"
    }
   ],
   "source": [
    "# check if the model does any better without the image as ref\n",
    "output = replicate.run(\n",
    "  \"vkolagotla/bapubomma_ai:572fa33614e484e0d9f7707707d5e1f04f00c968b733c8609647d9a2d9a523ff\",\n",
    "  input={\n",
    "    \"width\": 512,\n",
    "    \"height\": 512,\n",
    "    \"prompt\": \"bapubomma, artistic illustration, sachin holding a cricket world cup, text 'god of cricket' written on image\",\n",
    "    \"refine\": \"no_refiner\",\n",
    "    \"scheduler\": \"K_EULER\",\n",
    "    \"lora_scale\": 0.9,\n",
    "    \"num_outputs\": 3,\n",
    "    \"guidance_scale\": 7.5,\n",
    "    \"apply_watermark\": True,\n",
    "    \"high_noise_frac\": 0.8,\n",
    "    \"negative_prompt\": \"face and body deformities, abnormal human structure, abnormal shapes and structures, non-artistic illustrations\",\n",
    "    \"prompt_strength\": 0.8,\n",
    "    \"num_inference_steps\": 100\n",
    "  }\n",
    ")\n",
    "print(output)\n",
    "# List of image URLs\n",
    "images_list = ''.join([f'<img src=\"{url}\" style=\"width: 200px; margin: 0px; float: left;\" />' for url in output])\n",
    "# Display the images side by side\n",
    "display(HTML(images_list))"
   ]
  },
  {
   "cell_type": "markdown",
   "metadata": {},
   "source": [
    "# final observations from the latest train run(V1)...\n",
    "\n",
    "## results...\n",
    "\n",
    "#### - fairly good style learning from the fine tuning\n",
    "#### - not so good with faces sometimes or maybe thats to do more with bapu art style?\n",
    "#### - face deformities are still a thing in some predictions, maybe that can be corrected with better prompting?\n",
    "#### - def stick to 512x512, 256 does not make sense at all\n",
    "\n",
    "## train data and perams selection...\n",
    "\n",
    "#### - used 44(~23MB) images(9.9MB zip file) handpicked from all of bapus work.\n",
    "#### - better data and diverse set of images did improve the quality of preditions\n",
    "#### - 512 seems like a good resoltion to go on for future fine tunes\n",
    "#### - lr=0.0004 working well, but could use other schdules to test things\n",
    "#### - img to img did worse than expected\n",
    "\n",
    "#### - more data? where to find more imgs in good enough quality\n",
    "#### - even more steps? maybe in next train runs with more and better data\n",
    "\n",
    "## prompts and predictions\n",
    "\n",
    "#### - setting lora_scale to 0.9 helped eliminate some edge cases where model does not follow the lora style\n",
    "#### - negative prompts did help with quality on visual level\n",
    "#### - \"prompt\": \"bapubomma, artistic illustration,\" is a good starting point for any prompt as without \"bapubomma\" keyword does reduce the predictions quality\n",
    "#### - \"negative_prompt\": \"face and body deformities, abnormal human structure, abnormal shapes and structures, non-artistic illustrations\", seems to be working well so far but could use further finetuning\n",
    "#### - find a way to include these into the model special words directly so reduce the need to add them while prompting? or thats not how it works?\n",
    "\n",
    "\n",
    "## training costs...\n",
    "\n",
    "#### - trainig costs entirely depends on how many steps/epochs we want the model to train on\n",
    "#### - total trainig cost so far it's 3.38USD and for each preditions it costs 1 cent, and so far its 1.08USD.\n",
    "#### - each 1000 step training took around 7-8 minutes and costs around 30-40 cents.\n",
    "#### - that single 4000 step train run took ~27 minutes so the cost was linear to the time it took \n",
    "#### - future train runs should be chepaer as figuring things out took some runs and costed extra\n",
    "\n",
    "## misc...\n",
    "#### - replicate removes the predictions after a while? maybe there is a time frame like 24hrs or something so better push it to git remote to have the prediction files saved in the notebook so every day or smth like that would be a good practice."
   ]
  },
  {
   "cell_type": "code",
   "execution_count": null,
   "metadata": {},
   "outputs": [],
   "source": []
  }
 ],
 "metadata": {
  "kernelspec": {
   "display_name": "Python 3 (ipykernel)",
   "language": "python",
   "name": "python3"
  },
  "language_info": {
   "codemirror_mode": {
    "name": "ipython",
    "version": 3
   },
   "file_extension": ".py",
   "mimetype": "text/x-python",
   "name": "python",
   "nbconvert_exporter": "python",
   "pygments_lexer": "ipython3",
   "version": "3.9.12"
  }
 },
 "nbformat": 4,
 "nbformat_minor": 2
}
