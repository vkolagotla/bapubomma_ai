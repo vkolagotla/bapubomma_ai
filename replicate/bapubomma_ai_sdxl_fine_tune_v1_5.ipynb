{
 "cells": [
  {
   "cell_type": "code",
   "execution_count": 2,
   "id": "55c0711e",
   "metadata": {},
   "outputs": [],
   "source": [
    "import os\n",
    "from IPython.display import Image, display, HTML\n",
    "\n",
    "import replicate"
   ]
  },
  {
   "cell_type": "code",
   "execution_count": 3,
   "id": "38647328",
   "metadata": {},
   "outputs": [],
   "source": [
    "api_key = os.environ.get(\"REPLICATE_API_TOKEN\")"
   ]
  },
  {
   "cell_type": "code",
   "execution_count": 4,
   "id": "aea8ec9c",
   "metadata": {},
   "outputs": [
    {
     "name": "stdout",
     "output_type": "stream",
     "text": [
      "r8_U************************************\n"
     ]
    }
   ],
   "source": [
    "if api_key is not None:\n",
    "    print(api_key[:4] + '*' * (len(api_key) - 4))\n",
    "else:\n",
    "    print(\"api_key is None.\")"
   ]
  },
  {
   "cell_type": "markdown",
   "id": "3c95d803",
   "metadata": {},
   "source": [
    "### test the last best model from v1, before we start v1_5 finetune"
   ]
  },
  {
   "cell_type": "code",
   "execution_count": 5,
   "id": "3bf90c0b",
   "metadata": {
    "scrolled": true
   },
   "outputs": [
    {
     "name": "stdout",
     "output_type": "stream",
     "text": [
      "['https://replicate.delivery/pbxt/czMOWOb8saLOFFl1wBauXeYYeRTgwcHN709AMjRf7Mewm1nIB/out-0.png', 'https://replicate.delivery/pbxt/PFqMFnME9BqFHB9C9fhjSd36GemDEacXqodIF0iXCAVtZ9JSA/out-1.png', 'https://replicate.delivery/pbxt/HHkeSFfATVocj00BKNZo5VUeDrYpYvGJiGAbav23hXkdz6TkA/out-2.png']\n"
     ]
    },
    {
     "data": {
      "text/html": [
       "<img src=\"https://replicate.delivery/pbxt/czMOWOb8saLOFFl1wBauXeYYeRTgwcHN709AMjRf7Mewm1nIB/out-0.png\" style=\"width: 200px; margin: 0px; float: left;\" /><img src=\"https://replicate.delivery/pbxt/PFqMFnME9BqFHB9C9fhjSd36GemDEacXqodIF0iXCAVtZ9JSA/out-1.png\" style=\"width: 200px; margin: 0px; float: left;\" /><img src=\"https://replicate.delivery/pbxt/HHkeSFfATVocj00BKNZo5VUeDrYpYvGJiGAbav23hXkdz6TkA/out-2.png\" style=\"width: 200px; margin: 0px; float: left;\" />"
      ],
      "text/plain": [
       "<IPython.core.display.HTML object>"
      ]
     },
     "metadata": {},
     "output_type": "display_data"
    }
   ],
   "source": [
    "output = replicate.run(\n",
    "  \"vkolagotla/bapubomma_ai:572fa33614e484e0d9f7707707d5e1f04f00c968b733c8609647d9a2d9a523ff\",\n",
    "  input={\n",
    "    \"width\": 512,\n",
    "    \"height\": 512,\n",
    "    \"prompt\": \"bapubomma, Lord Rama and Sita walking together in a beautiful south Indian village near godhavari, river, clear faces\",\n",
    "    \"refine\": \"no_refiner\",\n",
    "    \"scheduler\": \"K_EULER\",\n",
    "    \"lora_scale\": 0.9,\n",
    "    \"num_outputs\": 3,\n",
    "    \"guidance_scale\": 7.5,\n",
    "    \"apply_watermark\": True,\n",
    "    \"high_noise_frac\": 0.8,\n",
    "    \"negative_prompt\": \"face and body deformities, abnormal human structure, abnormal shapes and structures, non-artistic illustrations\",\n",
    "    \"prompt_strength\": 0.8,\n",
    "    \"num_inference_steps\": 100\n",
    "  }\n",
    ")\n",
    "print(output)\n",
    "# List of image URLs\n",
    "images_list = ''.join([f'<img src=\"{url}\" style=\"width: 200px; margin: 0px; float: left;\" />' for url in output])\n",
    "# Display the images side by side\n",
    "display(HTML(images_list))"
   ]
  },
  {
   "cell_type": "code",
   "execution_count": null,
   "id": "959ed379",
   "metadata": {},
   "outputs": [],
   "source": [
    "bapubomma, artistic illustration, a Create a black and white art of a Young indian woman surrounded by dark duotone vertical textures glitch image, dramatic and bold contrasts. Incorporate a hint of sepia for a vintage feel \","
   ]
  },
  {
   "cell_type": "code",
   "execution_count": 42,
   "id": "6af78f03",
   "metadata": {},
   "outputs": [
    {
     "name": "stdout",
     "output_type": "stream",
     "text": [
      "['https://replicate.delivery/pbxt/lAP42oVZd0JxIhW5IrAh8dbaxReH28gMtN5a4fXLMROKbeTkA/out-0.png', 'https://replicate.delivery/pbxt/vrEqM2hGfz0wVqqC9KUXtOoWmqAGzG3U5VWS30iIMkclNfJSA/out-1.png', 'https://replicate.delivery/pbxt/oWljBPFoI2pkEJyQ3VeiWI5TLXVrEju3jeWxLgXeLHoX28TkA/out-2.png']\n"
     ]
    },
    {
     "data": {
      "text/html": [
       "<img src=\"https://replicate.delivery/pbxt/lAP42oVZd0JxIhW5IrAh8dbaxReH28gMtN5a4fXLMROKbeTkA/out-0.png\" style=\"width: 200px; margin: 0px; float: left;\" /><img src=\"https://replicate.delivery/pbxt/vrEqM2hGfz0wVqqC9KUXtOoWmqAGzG3U5VWS30iIMkclNfJSA/out-1.png\" style=\"width: 200px; margin: 0px; float: left;\" /><img src=\"https://replicate.delivery/pbxt/oWljBPFoI2pkEJyQ3VeiWI5TLXVrEju3jeWxLgXeLHoX28TkA/out-2.png\" style=\"width: 200px; margin: 0px; float: left;\" />"
      ],
      "text/plain": [
       "<IPython.core.display.HTML object>"
      ]
     },
     "metadata": {},
     "output_type": "display_data"
    }
   ],
   "source": [
    "output = replicate.run(\n",
    "  \"vkolagotla/bapubomma_ai:572fa33614e484e0d9f7707707d5e1f04f00c968b733c8609647d9a2d9a523ff\",\n",
    "  input={\n",
    "    \"width\": 512,\n",
    "    \"height\": 512,\n",
    "    \"prompt\": \"bapubomma, artistic illustration, a Create a black and white art of a Young indian woman surrounded by dark duotone vertical textures glitch image, dramatic and bold contrasts. Incorporate a hint of sepia for a vintage feel \",\n",
    "    \"refine\": \"no_refiner\",\n",
    "    \"scheduler\": \"K_EULER\",\n",
    "    \"lora_scale\": 0.9,\n",
    "    \"num_outputs\": 3,\n",
    "    \"guidance_scale\": 7.5,\n",
    "    \"apply_watermark\": True,\n",
    "    \"high_noise_fac\": 0.8,\n",
    "    \"negative_prompt\": \"face and body deformities, abnormal human structure, abnormal shapes and structures, non-artistic illustrations\",\n",
    "    \"prompt_strength\": 0.8,\n",
    "    \"num_inference_steps\": 100\n",
    "  }\n",
    ")\n",
    "print(output)\n",
    "# List of image URLs\n",
    "images_list = ''.join([f'<img src=\"{url}\" style=\"width: 200px; margin: 0px; float: left;\" />' for url in output])\n",
    "# Display the images side by side\n",
    "display(HTML(images_list))"
   ]
  },
  {
   "cell_type": "code",
   "execution_count": null,
   "id": "1be47a43",
   "metadata": {},
   "outputs": [],
   "source": []
  },
  {
   "cell_type": "code",
   "execution_count": 43,
   "id": "dc26d78a",
   "metadata": {},
   "outputs": [
    {
     "name": "stdout",
     "output_type": "stream",
     "text": [
      "['https://replicate.delivery/pbxt/1xJylkemmYUDHSwhxhdfERlNlE0ewbVUh9qWY1fcXTNhX6nIB/out-0.png', 'https://replicate.delivery/pbxt/reKWLznxmWXfCku79fAds39JeOGpEelD8nkVUNQ9BVwJv0PRC/out-1.png', 'https://replicate.delivery/pbxt/zyIuwDcBKgJPCNWtJ9GKMTbPlKxw7HSZKWf7IjK2a978SfJSA/out-2.png']\n"
     ]
    },
    {
     "data": {
      "text/html": [
       "<img src=\"https://replicate.delivery/pbxt/1xJylkemmYUDHSwhxhdfERlNlE0ewbVUh9qWY1fcXTNhX6nIB/out-0.png\" style=\"width: 200px; margin: 0px; float: left;\" /><img src=\"https://replicate.delivery/pbxt/reKWLznxmWXfCku79fAds39JeOGpEelD8nkVUNQ9BVwJv0PRC/out-1.png\" style=\"width: 200px; margin: 0px; float: left;\" /><img src=\"https://replicate.delivery/pbxt/zyIuwDcBKgJPCNWtJ9GKMTbPlKxw7HSZKWf7IjK2a978SfJSA/out-2.png\" style=\"width: 200px; margin: 0px; float: left;\" />"
      ],
      "text/plain": [
       "<IPython.core.display.HTML object>"
      ]
     },
     "metadata": {},
     "output_type": "display_data"
    }
   ],
   "source": [
    "output = replicate.run(\n",
    "  \"vkolagotla/bapubomma_ai:572fa33614e484e0d9f7707707d5e1f04f00c968b733c8609647d9a2d9a523ff\",\n",
    "  input={\n",
    "    \"width\": 512,\n",
    "    \"height\": 512,\n",
    "    \"prompt\": \"bapubomma, artistic illustration, Create art of a Young indian woman surrounded by dark duotone vertical textures glitch image, dramatic and bold contrasts. Incorporate a hint of sepia for a vintage feel \",\n",
    "    \"refine\": \"no_refiner\",\n",
    "    \"scheduler\": \"K_EULER\",\n",
    "    \"lora_scale\": 0.9,\n",
    "    \"num_outputs\": 3,\n",
    "    \"guidance_scale\": 7.5,\n",
    "    \"apply_watermark\": True,\n",
    "    \"high_noise_fac\": 0.8,\n",
    "    \"negative_prompt\": \"face and body deformities, abnormal human structure, abnormal shapes and structures, non-artistic illustrations\",\n",
    "    \"prompt_strength\": 0.8,\n",
    "    \"num_inference_steps\": 100\n",
    "  }\n",
    ")\n",
    "print(output)\n",
    "# List of image URLs\n",
    "images_list = ''.join([f'<img src=\"{url}\" style=\"width: 200px; margin: 0px; float: left;\" />' for url in output])\n",
    "# Display the images side by side\n",
    "display(HTML(images_list))"
   ]
  },
  {
   "cell_type": "markdown",
   "id": "6bc75574",
   "metadata": {},
   "source": [
    "## v1.5 training\n",
    "\n",
    "### v1.5 includes images from v1 but upscalled by 4x using playgroundAI. There are now a total of 40 images in the dataset with the zip file size of 102MB. V1 had 44 images with a zip file size of 9.9MB\n",
    "\n",
    "### Training process is just about same as v1 with same learning rate and image resolution of 512. Just using the new v1.5 zip file."
   ]
  },
  {
   "cell_type": "code",
   "execution_count": 7,
   "id": "d028aabc",
   "metadata": {},
   "outputs": [],
   "source": [
    "training_v1_5_1 = replicate.trainings.create(\n",
    "    version=\"stability-ai/sdxl:39ed52f2a78e934b3ba6e2a89f5b1c712de7dfea535525255b1aa35c5565e08b\",\n",
    "    input={\n",
    "        \"input_images\": \"https://vkolagotla.gitlab.io/assets/bapubomma_ai_final_train_dataset_v1_5.zip\",\n",
    "        \"lora_lr\": 4e-4,\n",
    "        \"resolution\": 512,\n",
    "        \"token_string\": \"bapubomma\",\n",
    "        \"caption_prefix\": \"Art, illustrations in the style of indian artist bapu, bapubomma\",\n",
    "    },\n",
    "    destination=\"vkolagotla/bapubomma_ai\"\n",
    ")"
   ]
  },
  {
   "cell_type": "code",
   "execution_count": 13,
   "id": "5fe0c6ea",
   "metadata": {},
   "outputs": [
    {
     "name": "stdout",
     "output_type": "stream",
     "text": [
      "starting\n"
     ]
    }
   ],
   "source": [
    "print(training_v1_5_1.status)"
   ]
  },
  {
   "cell_type": "code",
   "execution_count": null,
   "id": "7a41063d",
   "metadata": {},
   "outputs": [],
   "source": [
    "#remote model at replicate: \"vkolagotla/bapubomma_ai:b6f5a122638ad602aad03838b2f186222f3e47e8edd282ba8332e7ee653e3e1a\","
   ]
  },
  {
   "cell_type": "code",
   "execution_count": 11,
   "id": "99f9fff1",
   "metadata": {},
   "outputs": [
    {
     "name": "stdout",
     "output_type": "stream",
     "text": [
      "['https://replicate.delivery/pbxt/AUYefK9AFlsmEU3B5eW8w7T3THaWZO1NCTJqGgLYG8ZJd7TkA/out-0.png', 'https://replicate.delivery/pbxt/C7ZddNfmr3UNHSVk2Vmxo0RORZPJqPeevPcTTaQdetFV62nIB/out-1.png', 'https://replicate.delivery/pbxt/x8ip0QqQseUSNK1SgHFofQ9uox0ewGdj6SfXoVmAihwW62nIB/out-2.png']\n"
     ]
    },
    {
     "data": {
      "text/html": [
       "<img src=\"https://replicate.delivery/pbxt/AUYefK9AFlsmEU3B5eW8w7T3THaWZO1NCTJqGgLYG8ZJd7TkA/out-0.png\" style=\"width: 200px; margin: 0px; float: left;\" /><img src=\"https://replicate.delivery/pbxt/C7ZddNfmr3UNHSVk2Vmxo0RORZPJqPeevPcTTaQdetFV62nIB/out-1.png\" style=\"width: 200px; margin: 0px; float: left;\" /><img src=\"https://replicate.delivery/pbxt/x8ip0QqQseUSNK1SgHFofQ9uox0ewGdj6SfXoVmAihwW62nIB/out-2.png\" style=\"width: 200px; margin: 0px; float: left;\" />"
      ],
      "text/plain": [
       "<IPython.core.display.HTML object>"
      ]
     },
     "metadata": {},
     "output_type": "display_data"
    }
   ],
   "source": [
    "output = replicate.run(\n",
    "  \"vkolagotla/bapubomma_ai:b6f5a122638ad602aad03838b2f186222f3e47e8edd282ba8332e7ee653e3e1a\",\n",
    "  input={\n",
    "    \"width\": 512,\n",
    "    \"height\": 512,\n",
    "    \"prompt\": \"bapubomma, Lord Rama and Sita walking together in a beautiful south Indian village near godhavari, river, clear faces\",\n",
    "    \"refine\": \"no_refiner\",\n",
    "    \"scheduler\": \"K_EULER\",\n",
    "    \"lora_scale\": 0.9,\n",
    "    \"num_outputs\": 3,\n",
    "    \"guidance_scale\": 7.5,\n",
    "    \"apply_watermark\": True,\n",
    "    \"high_noise_frac\": 0.8,\n",
    "    \"negative_prompt\": \"face and body deformities, abnormal human structure, abnormal shapes and structures, non-artistic illustrations\",\n",
    "    \"prompt_strength\": 0.8,\n",
    "    \"num_inference_steps\": 100\n",
    "  }\n",
    ")\n",
    "print(output)\n",
    "# List of image URLs\n",
    "images_list = ''.join([f'<img src=\"{url}\" style=\"width: 200px; margin: 0px; float: left;\" />' for url in output])\n",
    "# Display the images side by side\n",
    "display(HTML(images_list))"
   ]
  },
  {
   "cell_type": "code",
   "execution_count": 15,
   "id": "e361e844",
   "metadata": {},
   "outputs": [
    {
     "name": "stdout",
     "output_type": "stream",
     "text": [
      "['https://replicate.delivery/pbxt/D260j7erUsWzICTq6obokYKnuREgim8gaWmEYuKv6Gx44eJSA/out-0.png', 'https://replicate.delivery/pbxt/nEDF06GIKvJMN1GUj4S5ft6jAq0RSJEBBqH6ASfPl2Zzx9JSA/out-1.png', 'https://replicate.delivery/pbxt/12ffubrBEwh6iEID32nHTncE9pdXIukSDaSDwMIJCASzx9JSA/out-2.png']\n"
     ]
    },
    {
     "data": {
      "text/html": [
       "<img src=\"https://replicate.delivery/pbxt/D260j7erUsWzICTq6obokYKnuREgim8gaWmEYuKv6Gx44eJSA/out-0.png\" style=\"width: 200px; margin: 0px; float: left;\" /><img src=\"https://replicate.delivery/pbxt/nEDF06GIKvJMN1GUj4S5ft6jAq0RSJEBBqH6ASfPl2Zzx9JSA/out-1.png\" style=\"width: 200px; margin: 0px; float: left;\" /><img src=\"https://replicate.delivery/pbxt/12ffubrBEwh6iEID32nHTncE9pdXIukSDaSDwMIJCASzx9JSA/out-2.png\" style=\"width: 200px; margin: 0px; float: left;\" />"
      ],
      "text/plain": [
       "<IPython.core.display.HTML object>"
      ]
     },
     "metadata": {},
     "output_type": "display_data"
    }
   ],
   "source": [
    "output = replicate.run(\n",
    "  \"vkolagotla/bapubomma_ai:b6f5a122638ad602aad03838b2f186222f3e47e8edd282ba8332e7ee653e3e1a\",\n",
    "  input={\n",
    "    \"width\": 512,\n",
    "    \"height\": 512,\n",
    "    \"prompt\": \"bapubomma, two sisters walking together in a beautiful south india village, beautiful village, river, clear faces, artistic illustrations\",\n",
    "    \"refine\": \"no_refiner\",\n",
    "    \"scheduler\": \"K_EULER\",\n",
    "    \"lora_scale\": 0.8,\n",
    "    \"num_outputs\": 3,\n",
    "    \"guidance_scale\": 7.5,\n",
    "    \"apply_watermark\": True,\n",
    "    \"high_noise_frac\": 0.8,\n",
    "    \"negative_prompt\": \"face and body deformities, abnormal human structure, abnormal shapes and structures, non-artistic illustrations\",\n",
    "    \"prompt_strength\": 0.8,\n",
    "    \"num_inference_steps\": 100\n",
    "  }\n",
    ")\n",
    "print(output)\n",
    "# List of image URLs\n",
    "images_list = ''.join([f'<img src=\"{url}\" style=\"width: 200px; margin: 0px; float: left;\" />' for url in output])\n",
    "# Display the images side by side\n",
    "display(HTML(images_list))"
   ]
  },
  {
   "cell_type": "code",
   "execution_count": 16,
   "id": "a4ee1d37",
   "metadata": {
    "scrolled": true
   },
   "outputs": [
    {
     "name": "stdout",
     "output_type": "stream",
     "text": [
      "['https://replicate.delivery/pbxt/Mzcq1pb0XOIKOF1TIfG7L6KQuGMFEndl9ZMsfMerZodfL3nIB/out-0.png', 'https://replicate.delivery/pbxt/aBeSFqzkfdmPrkujdwJ46vOQZejU2FvaD3izjgyVCT4Bm7TkA/out-1.png', 'https://replicate.delivery/pbxt/8l255esC5NQVZyUsWcOAe4zef3z391pFF3ewuUDmaydGYuPRC/out-2.png']\n"
     ]
    },
    {
     "data": {
      "text/html": [
       "<img src=\"https://replicate.delivery/pbxt/Mzcq1pb0XOIKOF1TIfG7L6KQuGMFEndl9ZMsfMerZodfL3nIB/out-0.png\" style=\"width: 200px; margin: 0px; float: left;\" /><img src=\"https://replicate.delivery/pbxt/aBeSFqzkfdmPrkujdwJ46vOQZejU2FvaD3izjgyVCT4Bm7TkA/out-1.png\" style=\"width: 200px; margin: 0px; float: left;\" /><img src=\"https://replicate.delivery/pbxt/8l255esC5NQVZyUsWcOAe4zef3z391pFF3ewuUDmaydGYuPRC/out-2.png\" style=\"width: 200px; margin: 0px; float: left;\" />"
      ],
      "text/plain": [
       "<IPython.core.display.HTML object>"
      ]
     },
     "metadata": {},
     "output_type": "display_data"
    }
   ],
   "source": [
    "output = replicate.run(\n",
    "  \"vkolagotla/bapubomma_ai:b6f5a122638ad602aad03838b2f186222f3e47e8edd282ba8332e7ee653e3e1a\",\n",
    "  input={\n",
    "    \"width\": 512,\n",
    "    \"height\": 512,\n",
    "    \"prompt\": \"bapubomma, two brothers walking together in a beautiful south swiss village, beautiful village, river, clear faces\",\n",
    "    \"refine\": \"no_refiner\",\n",
    "    \"scheduler\": \"K_EULER\",\n",
    "    \"lora_scale\": 0.8,\n",
    "    \"num_outputs\": 3,\n",
    "    \"guidance_scale\": 7.5,\n",
    "    \"apply_watermark\": True,\n",
    "    \"high_noise_frac\": 0.8,\n",
    "    \"negative_prompt\": \"face and body deformities, abnormal human structure, abnormal shapes and structures, non-artistic illustrations\",\n",
    "    \"prompt_strength\": 0.8,\n",
    "    \"num_inference_steps\": 100\n",
    "  }\n",
    ")\n",
    "print(output)\n",
    "# List of image URLs\n",
    "images_list = ''.join([f'<img src=\"{url}\" style=\"width: 200px; margin: 0px; float: left;\" />' for url in output])\n",
    "# Display the images side by side\n",
    "display(HTML(images_list))"
   ]
  },
  {
   "cell_type": "code",
   "execution_count": 17,
   "id": "a1c086b3",
   "metadata": {},
   "outputs": [
    {
     "name": "stdout",
     "output_type": "stream",
     "text": [
      "['https://replicate.delivery/pbxt/yDx1v2BxVcL5Od7EUwIlHnub7jCPeHq6HM4huC2Rn9Ir5eJSA/out-0.png', 'https://replicate.delivery/pbxt/o9DPQIOfp6RxLahi6zB3nrjgYskFmtf1y08TDOayTM4Wz9JSA/out-1.png', 'https://replicate.delivery/pbxt/Z3gXPOJyKwZ3PRSKRF6xeTgIeTFHkyMaLLVQDQbWFkxWz9JSA/out-2.png']\n"
     ]
    },
    {
     "data": {
      "text/html": [
       "<img src=\"https://replicate.delivery/pbxt/yDx1v2BxVcL5Od7EUwIlHnub7jCPeHq6HM4huC2Rn9Ir5eJSA/out-0.png\" style=\"width: 200px; margin: 0px; float: left;\" /><img src=\"https://replicate.delivery/pbxt/o9DPQIOfp6RxLahi6zB3nrjgYskFmtf1y08TDOayTM4Wz9JSA/out-1.png\" style=\"width: 200px; margin: 0px; float: left;\" /><img src=\"https://replicate.delivery/pbxt/Z3gXPOJyKwZ3PRSKRF6xeTgIeTFHkyMaLLVQDQbWFkxWz9JSA/out-2.png\" style=\"width: 200px; margin: 0px; float: left;\" />"
      ],
      "text/plain": [
       "<IPython.core.display.HTML object>"
      ]
     },
     "metadata": {},
     "output_type": "display_data"
    }
   ],
   "source": [
    "output = replicate.run(\n",
    "  \"vkolagotla/bapubomma_ai:b6f5a122638ad602aad03838b2f186222f3e47e8edd282ba8332e7ee653e3e1a\",\n",
    "  input={\n",
    "    \"width\": 512,\n",
    "    \"height\": 512,\n",
    "    \"prompt\": \"bapubomma, two sisters walking together in a beautiful south swiss village, beautiful village, river, clear faces\",\n",
    "    \"refine\": \"no_refiner\",\n",
    "    \"scheduler\": \"K_EULER\",\n",
    "    \"lora_scale\": 0.8,\n",
    "    \"num_outputs\": 3,\n",
    "    \"guidance_scale\": 7.5,\n",
    "    \"apply_watermark\": True,\n",
    "    \"high_noise_frac\": 0.8,\n",
    "    \"negative_prompt\": \"face and body deformities, abnormal human structure, abnormal shapes and structures, non-artistic illustrations\",\n",
    "    \"prompt_strength\": 0.8,\n",
    "    \"num_inference_steps\": 100\n",
    "  }\n",
    ")\n",
    "print(output)\n",
    "# List of image URLs\n",
    "images_list = ''.join([f'<img src=\"{url}\" style=\"width: 200px; margin: 0px; float: left;\" />' for url in output])\n",
    "# Display the images side by side\n",
    "display(HTML(images_list))"
   ]
  },
  {
   "cell_type": "code",
   "execution_count": 26,
   "id": "0e49e5f5",
   "metadata": {},
   "outputs": [
    {
     "name": "stdout",
     "output_type": "stream",
     "text": [
      "['https://replicate.delivery/pbxt/7UzazWtL91rlG5WMRVXS6YeatsBY9IfXBTZeFxOeZDFh33nIB/out-0.png', 'https://replicate.delivery/pbxt/AUTe4aiitS2kKaCiFmOVnvIrA8FTcKfpkWHsQKV3GcG499JSA/out-1.png', 'https://replicate.delivery/pbxt/D1eQcTfsqAmdB0WkIq8kOcoKfbdjeXRfRvGXNny4ozAGvvPRC/out-2.png']\n"
     ]
    },
    {
     "data": {
      "text/html": [
       "<img src=\"https://replicate.delivery/pbxt/7UzazWtL91rlG5WMRVXS6YeatsBY9IfXBTZeFxOeZDFh33nIB/out-0.png\" style=\"width: 200px; margin: 0px; float: left;\" /><img src=\"https://replicate.delivery/pbxt/AUTe4aiitS2kKaCiFmOVnvIrA8FTcKfpkWHsQKV3GcG499JSA/out-1.png\" style=\"width: 200px; margin: 0px; float: left;\" /><img src=\"https://replicate.delivery/pbxt/D1eQcTfsqAmdB0WkIq8kOcoKfbdjeXRfRvGXNny4ozAGvvPRC/out-2.png\" style=\"width: 200px; margin: 0px; float: left;\" />"
      ],
      "text/plain": [
       "<IPython.core.display.HTML object>"
      ]
     },
     "metadata": {},
     "output_type": "display_data"
    }
   ],
   "source": [
    "output = replicate.run(\n",
    "  \"vkolagotla/bapubomma_ai:b6f5a122638ad602aad03838b2f186222f3e47e8edd282ba8332e7ee653e3e1a\",\n",
    "  input={\n",
    "    \"width\": 512,\n",
    "    \"height\": 512,\n",
    "    \"prompt\": \"bapubomma, artistic illustration, two guys walking together in a beautiful south swiss village, beautiful village, river, clear faces\",\n",
    "    \"refine\": \"no_refiner\",\n",
    "    \"scheduler\": \"K_EULER\",\n",
    "    \"lora_scale\": 0.9,\n",
    "    \"num_outputs\": 3,\n",
    "    \"guidance_scale\": 7.5,\n",
    "    \"apply_watermark\": True,\n",
    "    \"high_noise_frac\": 0.8,\n",
    "    \"negative_prompt\": \"face and body deformities, abnormal human structure, abnormal shapes and structures, non-artistic illustrations\",\n",
    "    \"prompt_strength\": 0.8,\n",
    "    \"num_inference_steps\": 100\n",
    "  }\n",
    ")\n",
    "print(output)\n",
    "# List of image URLs\n",
    "images_list = ''.join([f'<img src=\"{url}\" style=\"width: 200px; margin: 0px; float: left;\" />' for url in output])\n",
    "# Display the images side by side\n",
    "display(HTML(images_list))"
   ]
  },
  {
   "cell_type": "code",
   "execution_count": null,
   "id": "f4f3e8dc",
   "metadata": {},
   "outputs": [],
   "source": []
  },
  {
   "cell_type": "code",
   "execution_count": 35,
   "id": "a050ac0a",
   "metadata": {},
   "outputs": [
    {
     "name": "stdout",
     "output_type": "stream",
     "text": [
      "['https://replicate.delivery/pbxt/S6FEV6ih4nLPOhDQWQDDOf95kEKcGis1xGOPADJ8TpDwFfJSA/out-0.png', 'https://replicate.delivery/pbxt/uTKiKop9KTqOFZqfef2gprIe9E6FUTZgpu3Yo9fFOU6OcxPRC/out-1.png', 'https://replicate.delivery/pbxt/9i5LkcQqdXZuM5eEpalrNwke5roGOekxD4Qe7dRbDGqGu4nIB/out-2.png']\n"
     ]
    },
    {
     "data": {
      "text/html": [
       "<img src=\"https://replicate.delivery/pbxt/S6FEV6ih4nLPOhDQWQDDOf95kEKcGis1xGOPADJ8TpDwFfJSA/out-0.png\" style=\"width: 200px; margin: 0px; float: left;\" /><img src=\"https://replicate.delivery/pbxt/uTKiKop9KTqOFZqfef2gprIe9E6FUTZgpu3Yo9fFOU6OcxPRC/out-1.png\" style=\"width: 200px; margin: 0px; float: left;\" /><img src=\"https://replicate.delivery/pbxt/9i5LkcQqdXZuM5eEpalrNwke5roGOekxD4Qe7dRbDGqGu4nIB/out-2.png\" style=\"width: 200px; margin: 0px; float: left;\" />"
      ],
      "text/plain": [
       "<IPython.core.display.HTML object>"
      ]
     },
     "metadata": {},
     "output_type": "display_data"
    }
   ],
   "source": [
    "output = replicate.run(\n",
    "  \"vkolagotla/bapubomma_ai:b6f5a122638ad602aad03838b2f186222f3e47e8edd282ba8332e7ee653e3e1a\",\n",
    "  input={\n",
    "    \"width\": 512,\n",
    "    \"height\": 512,\n",
    "    \"prompt\": \"bapubomma, artistic illustration, a Create a black and white Young woman surrounded by dark duotone vertical textures glitch image, dramatic and bold contrasts. Incorporate a hint of sepia for a vintage feel \",\n",
    "    \"refine\": \"no_refiner\",\n",
    "    \"scheduler\": \"K_EULER\",\n",
    "    \"lora_scale\": 0.9,\n",
    "    \"num_outputs\": 3,\n",
    "    \"guidance_scale\": 7.5,\n",
    "    \"apply_watermark\": True,\n",
    "    \"high_noise_frac\": 0.8,\n",
    "    \"negative_prompt\": \"face and body deformities, abnormal human structure, abnormal shapes and structures, non-artistic illustrations\",\n",
    "    \"prompt_strength\": 0.8,\n",
    "    \"num_inference_steps\": 100\n",
    "  }\n",
    ")\n",
    "print(output)\n",
    "# List of image URLs\n",
    "images_list = ''.join([f'<img src=\"{url}\" style=\"width: 200px; margin: 0px; float: left;\" />' for url in output])\n",
    "# Display the images side by side\n",
    "display(HTML(images_list))"
   ]
  },
  {
   "cell_type": "code",
   "execution_count": 37,
   "id": "de77a42c",
   "metadata": {},
   "outputs": [
    {
     "name": "stdout",
     "output_type": "stream",
     "text": [
      "['https://replicate.delivery/pbxt/Tq3hue8CjbyERqZGlXcTJZdtGTeVHDASTwM2RKfhJAuQb8TkA/out-0.png', 'https://replicate.delivery/pbxt/n3oAkKOtmfR4ByHTP3yWRomFr6feQgV4wSdQjfpFW7hm24nIB/out-1.png', 'https://replicate.delivery/pbxt/fDnQk6lBzXxyJiXkFcKkmoB1ewAgZsHeiTD80QL6D90Ub8TkA/out-2.png']\n"
     ]
    },
    {
     "data": {
      "text/html": [
       "<img src=\"https://replicate.delivery/pbxt/Tq3hue8CjbyERqZGlXcTJZdtGTeVHDASTwM2RKfhJAuQb8TkA/out-0.png\" style=\"width: 200px; margin: 0px; float: left;\" /><img src=\"https://replicate.delivery/pbxt/n3oAkKOtmfR4ByHTP3yWRomFr6feQgV4wSdQjfpFW7hm24nIB/out-1.png\" style=\"width: 200px; margin: 0px; float: left;\" /><img src=\"https://replicate.delivery/pbxt/fDnQk6lBzXxyJiXkFcKkmoB1ewAgZsHeiTD80QL6D90Ub8TkA/out-2.png\" style=\"width: 200px; margin: 0px; float: left;\" />"
      ],
      "text/plain": [
       "<IPython.core.display.HTML object>"
      ]
     },
     "metadata": {},
     "output_type": "display_data"
    }
   ],
   "source": [
    "output = replicate.run(\n",
    "  \"vkolagotla/bapubomma_ai:b6f5a122638ad602aad03838b2f186222f3e47e8edd282ba8332e7ee653e3e1a\",\n",
    "  input={\n",
    "    \"width\": 512,\n",
    "    \"height\": 512,\n",
    "    \"prompt\": \"bapubomma, artistic illustration, a Create a black and white art of a Young woman surrounded by dark duotone vertical textures glitch image, dramatic and bold contrasts. Incorporate a hint of sepia for a vintage feel \",\n",
    "    \"refine\": \"no_refiner\",\n",
    "    \"scheduler\": \"K_EULER\",\n",
    "    \"lora_scale\": 0.9,\n",
    "    \"num_outputs\": 3,\n",
    "    \"guidance_scale\": 7.5,\n",
    "    \"apply_watermark\": True,\n",
    "    \"high_noise_frac\": 0.8,\n",
    "    \"negative_prompt\": \"face and body deformities, abnormal human structure, abnormal shapes and structures, non-artistic illustrations\",\n",
    "    \"prompt_strength\": 0.8,\n",
    "    \"num_inference_steps\": 100\n",
    "  }\n",
    ")\n",
    "print(output)\n",
    "# List of image URLs\n",
    "images_list = ''.join([f'<img src=\"{url}\" style=\"width: 200px; margin: 0px; float: left;\" />' for url in output])\n",
    "# Display the images side by side\n",
    "display(HTML(images_list))"
   ]
  },
  {
   "cell_type": "code",
   "execution_count": 38,
   "id": "05805900",
   "metadata": {
    "scrolled": true
   },
   "outputs": [
    {
     "name": "stdout",
     "output_type": "stream",
     "text": [
      "['https://replicate.delivery/pbxt/4chKUSweRERVUSaKARfZ3NqUh3jH2PiJXxh8G7Jeyjc8c8TkA/out-0.png', 'https://replicate.delivery/pbxt/Ejrd1NDeISQITyftszzyh4dWrKLiWpfFMxMbYeO619wfzxPRC/out-1.png', 'https://replicate.delivery/pbxt/RkNUFINMekxfr0gTJT9jSU5C1ir5WC5MduBIiKkiGdafc8TkA/out-2.png']\n"
     ]
    },
    {
     "data": {
      "text/html": [
       "<img src=\"https://replicate.delivery/pbxt/4chKUSweRERVUSaKARfZ3NqUh3jH2PiJXxh8G7Jeyjc8c8TkA/out-0.png\" style=\"width: 200px; margin: 0px; float: left;\" /><img src=\"https://replicate.delivery/pbxt/Ejrd1NDeISQITyftszzyh4dWrKLiWpfFMxMbYeO619wfzxPRC/out-1.png\" style=\"width: 200px; margin: 0px; float: left;\" /><img src=\"https://replicate.delivery/pbxt/RkNUFINMekxfr0gTJT9jSU5C1ir5WC5MduBIiKkiGdafc8TkA/out-2.png\" style=\"width: 200px; margin: 0px; float: left;\" />"
      ],
      "text/plain": [
       "<IPython.core.display.HTML object>"
      ]
     },
     "metadata": {},
     "output_type": "display_data"
    }
   ],
   "source": [
    "output = replicate.run(\n",
    "  \"vkolagotla/bapubomma_ai:b6f5a122638ad602aad03838b2f186222f3e47e8edd282ba8332e7ee653e3e1a\",\n",
    "  input={\n",
    "    \"width\": 512,\n",
    "    \"height\": 512,\n",
    "    \"prompt\": \"bapubomma, artistic illustration, a Create a black and white art of a Young indian woman surrounded by dark duotone vertical textures glitch image, dramatic and bold contrasts. Incorporate a hint of sepia for a vintage feel \",\n",
    "    \"refine\": \"no_refiner\",\n",
    "    \"scheduler\": \"K_EULER\",\n",
    "    \"lora_scale\": 0.9,\n",
    "    \"num_outputs\": 3,\n",
    "    \"guidance_scale\": 7.5,\n",
    "    \"apply_watermark\": True,\n",
    "    \"high_noise_frac\": 0.8,\n",
    "    \"negative_prompt\": \"face and body deformities, abnormal human structure, abnormal shapes and structures, non-artistic illustrations\",\n",
    "    \"prompt_strength\": 0.8,\n",
    "    \"num_inference_steps\": 100\n",
    "  }\n",
    ")\n",
    "print(output)\n",
    "# List of image URLs\n",
    "images_list = ''.join([f'<img src=\"{url}\" style=\"width: 200px; margin: 0px; float: left;\" />' for url in output])\n",
    "# Display the images side by side\n",
    "display(HTML(images_list))"
   ]
  },
  {
   "cell_type": "code",
   "execution_count": null,
   "id": "4c32a1ed",
   "metadata": {},
   "outputs": [],
   "source": [
    "# official SDXL model at \"stability-ai/sdxl:39ed52f2a78e934b3ba6e2a89f5b1c712de7dfea535525255b1aa35c5565e08b\","
   ]
  },
  {
   "cell_type": "code",
   "execution_count": 40,
   "id": "3ccfe899",
   "metadata": {},
   "outputs": [
    {
     "name": "stdout",
     "output_type": "stream",
     "text": [
      "['https://replicate.delivery/pbxt/QDnEDrk8jE5FIZF2YLmb93AhlXB9SZYRAA20usEtF36HlfEJA/out-0.png', 'https://replicate.delivery/pbxt/TLeglFdYP31BRijf3EgReMYjRp3VbhsNbnqtTMO7rbiBp8TkA/out-1.png', 'https://replicate.delivery/pbxt/lY5ycuLZFq5eMK68LODuLxkEUYQioW9WTSnGgh54fEBgUeTkA/out-2.png']\n"
     ]
    },
    {
     "data": {
      "text/html": [
       "<img src=\"https://replicate.delivery/pbxt/QDnEDrk8jE5FIZF2YLmb93AhlXB9SZYRAA20usEtF36HlfEJA/out-0.png\" style=\"width: 200px; margin: 0px; float: left;\" /><img src=\"https://replicate.delivery/pbxt/TLeglFdYP31BRijf3EgReMYjRp3VbhsNbnqtTMO7rbiBp8TkA/out-1.png\" style=\"width: 200px; margin: 0px; float: left;\" /><img src=\"https://replicate.delivery/pbxt/lY5ycuLZFq5eMK68LODuLxkEUYQioW9WTSnGgh54fEBgUeTkA/out-2.png\" style=\"width: 200px; margin: 0px; float: left;\" />"
      ],
      "text/plain": [
       "<IPython.core.display.HTML object>"
      ]
     },
     "metadata": {},
     "output_type": "display_data"
    }
   ],
   "source": [
    "output = replicate.run(\n",
    "  \"stability-ai/sdxl:39ed52f2a78e934b3ba6e2a89f5b1c712de7dfea535525255b1aa35c5565e08b\",\n",
    "  input={\n",
    "    \"width\": 512,\n",
    "    \"height\": 512,\n",
    "    \"prompt\": \"bapubomma, artistic illustration, a Create a black and white art of a Young indian woman surrounded by dark duotone vertical textures glitch image, dramatic and bold contrasts. Incorporate a hint of sepia for a vintage feel \",\n",
    "    \"refine\": \"no_refiner\",\n",
    "    \"scheduler\": \"K_EULER\",\n",
    "    \"lora_scale\": 0.9,\n",
    "    \"num_outputs\": 3,\n",
    "    \"guidance_scale\": 7.5,\n",
    "    \"apply_watermark\": True,\n",
    "    \"high_noise_frac\": 0.8,\n",
    "    \"negative_prompt\": \"face and body deformities, abnormal human structure, abnormal shapes and structures, non-artistic illustrations\",\n",
    "    \"prompt_strength\": 0.8,\n",
    "    \"num_inference_steps\": 100\n",
    "  }\n",
    ")\n",
    "print(output)\n",
    "# List of image URLs\n",
    "images_list = ''.join([f'<img src=\"{url}\" style=\"width: 200px; margin: 0px; float: left;\" />' for url in output])\n",
    "# Display the images side by side\n",
    "display(HTML(images_list))"
   ]
  },
  {
   "cell_type": "code",
   "execution_count": 41,
   "id": "23f87219",
   "metadata": {},
   "outputs": [
    {
     "name": "stdout",
     "output_type": "stream",
     "text": [
      "['https://replicate.delivery/pbxt/b2uGCGsYNhIqHJyI0DaNyOaiHSZQ93zBXgaY31fHyKfXVeTkA/out-0.png', 'https://replicate.delivery/pbxt/9HiXjQD1HwaFOReNfWqqtBsmse1tRDJOOgo0WwBqde7gV5nIB/out-1.png', 'https://replicate.delivery/pbxt/5haoFdLeDlwWZSDpDLZEZfN6VdjKPrS7Hdak7DBh0RNZVeTkA/out-2.png']\n"
     ]
    },
    {
     "data": {
      "text/html": [
       "<img src=\"https://replicate.delivery/pbxt/b2uGCGsYNhIqHJyI0DaNyOaiHSZQ93zBXgaY31fHyKfXVeTkA/out-0.png\" style=\"width: 200px; margin: 0px; float: left;\" /><img src=\"https://replicate.delivery/pbxt/9HiXjQD1HwaFOReNfWqqtBsmse1tRDJOOgo0WwBqde7gV5nIB/out-1.png\" style=\"width: 200px; margin: 0px; float: left;\" /><img src=\"https://replicate.delivery/pbxt/5haoFdLeDlwWZSDpDLZEZfN6VdjKPrS7Hdak7DBh0RNZVeTkA/out-2.png\" style=\"width: 200px; margin: 0px; float: left;\" />"
      ],
      "text/plain": [
       "<IPython.core.display.HTML object>"
      ]
     },
     "metadata": {},
     "output_type": "display_data"
    }
   ],
   "source": [
    "output = replicate.run(\n",
    "  \"stability-ai/sdxl:39ed52f2a78e934b3ba6e2a89f5b1c712de7dfea535525255b1aa35c5565e08b\",\n",
    "  input={\n",
    "    \"width\": 512,\n",
    "    \"height\": 512,\n",
    "    \"prompt\": \"artistic illustration, a Create a black and white art of a Young indian woman surrounded by dark duotone vertical textures glitch image, dramatic and bold contrasts. Incorporate a hint of sepia for a vintage feel \",\n",
    "    \"refine\": \"no_refiner\",\n",
    "    \"scheduler\": \"K_EULER\",\n",
    "    \"lora_scale\": 0.9,\n",
    "    \"num_outputs\": 3,\n",
    "    \"guidance_scale\": 7.5,\n",
    "    \"apply_watermark\": True,\n",
    "    \"high_noise_frac\": 0.8,\n",
    "    \"negative_prompt\": \"face and body deformities, abnormal human structure, abnormal shapes and structures, non-artistic illustrations\",\n",
    "    \"prompt_strength\": 0.8,\n",
    "    \"num_inference_steps\": 100\n",
    "  }\n",
    ")\n",
    "print(output)\n",
    "# List of image URLs\n",
    "images_list = ''.join([f'<img src=\"{url}\" style=\"width: 200px; margin: 0px; float: left;\" />' for url in output])\n",
    "# Display the images side by side\n",
    "display(HTML(images_list))"
   ]
  },
  {
   "cell_type": "code",
   "execution_count": 39,
   "id": "ba1fc130",
   "metadata": {
    "scrolled": false
   },
   "outputs": [
    {
     "name": "stdout",
     "output_type": "stream",
     "text": [
      "['https://replicate.delivery/pbxt/zbiQO4QfzM31LifMkejldt5c3e6OPmBgYnyndlwH63ISfxPRC/out-0.png', 'https://replicate.delivery/pbxt/Ay54AfhJWTzrZqJR6epZTCYACeE0crfOrdyGpYPwt8zZfxPRC/out-1.png', 'https://replicate.delivery/pbxt/vJBlBMKM4HZAHdqELvjEgTGl2ppcbKpikgZFD2XU1Xh9jfEJA/out-2.png']\n"
     ]
    },
    {
     "data": {
      "text/html": [
       "<img src=\"https://replicate.delivery/pbxt/zbiQO4QfzM31LifMkejldt5c3e6OPmBgYnyndlwH63ISfxPRC/out-0.png\" style=\"width: 200px; margin: 0px; float: left;\" /><img src=\"https://replicate.delivery/pbxt/Ay54AfhJWTzrZqJR6epZTCYACeE0crfOrdyGpYPwt8zZfxPRC/out-1.png\" style=\"width: 200px; margin: 0px; float: left;\" /><img src=\"https://replicate.delivery/pbxt/vJBlBMKM4HZAHdqELvjEgTGl2ppcbKpikgZFD2XU1Xh9jfEJA/out-2.png\" style=\"width: 200px; margin: 0px; float: left;\" />"
      ],
      "text/plain": [
       "<IPython.core.display.HTML object>"
      ]
     },
     "metadata": {},
     "output_type": "display_data"
    }
   ],
   "source": [
    "output = replicate.run(\n",
    "  \"vkolagotla/bapubomma_ai:b6f5a122638ad602aad03838b2f186222f3e47e8edd282ba8332e7ee653e3e1a\",\n",
    "  input={\n",
    "    \"width\": 512,\n",
    "    \"height\": 512,\n",
    "    \"prompt\": \"bapubomma, artistic illustration, Create art of a Young indian woman surrounded by dark duotone vertical textures glitch image, dramatic and bold contrasts. Incorporate a hint of sepia for a vintage feel \",\n",
    "    \"refine\": \"no_refiner\",\n",
    "    \"scheduler\": \"K_EULER\",\n",
    "    \"lora_scale\": 0.9,\n",
    "    \"num_outputs\": 3,\n",
    "    \"guidance_scale\": 7.5,\n",
    "    \"apply_watermark\": True,\n",
    "    \"high_noise_frac\": 0.8,\n",
    "    \"negative_prompt\": \"face and body deformities, abnormal human structure, abnormal shapes and structures, non-artistic illustrations\",\n",
    "    \"prompt_strength\": 0.8,\n",
    "    \"num_inference_steps\": 100\n",
    "  }\n",
    ")\n",
    "print(output)\n",
    "# List of image URLs\n",
    "images_list = ''.join([f'<img src=\"{url}\" style=\"width: 200px; margin: 0px; float: left;\" />' for url in output])\n",
    "# Display the images side by side\n",
    "display(HTML(images_list))"
   ]
  },
  {
   "cell_type": "code",
   "execution_count": null,
   "id": "c702940c",
   "metadata": {},
   "outputs": [],
   "source": []
  },
  {
   "cell_type": "code",
   "execution_count": null,
   "id": "434d8db8",
   "metadata": {},
   "outputs": [],
   "source": []
  },
  {
   "cell_type": "code",
   "execution_count": null,
   "id": "68f23066",
   "metadata": {},
   "outputs": [],
   "source": []
  },
  {
   "cell_type": "code",
   "execution_count": null,
   "id": "5e214402",
   "metadata": {},
   "outputs": [],
   "source": []
  },
  {
   "cell_type": "code",
   "execution_count": null,
   "id": "ca3fd5e7",
   "metadata": {},
   "outputs": [],
   "source": []
  },
  {
   "cell_type": "code",
   "execution_count": null,
   "id": "ed363d36",
   "metadata": {},
   "outputs": [],
   "source": []
  },
  {
   "cell_type": "code",
   "execution_count": null,
   "id": "7e21e7d4",
   "metadata": {},
   "outputs": [],
   "source": []
  },
  {
   "cell_type": "code",
   "execution_count": null,
   "id": "881f9580",
   "metadata": {},
   "outputs": [],
   "source": []
  },
  {
   "cell_type": "code",
   "execution_count": null,
   "id": "8abd49ff",
   "metadata": {},
   "outputs": [],
   "source": []
  },
  {
   "cell_type": "code",
   "execution_count": null,
   "id": "8f8b0e56",
   "metadata": {},
   "outputs": [],
   "source": []
  },
  {
   "cell_type": "code",
   "execution_count": null,
   "id": "be6d0dc0",
   "metadata": {},
   "outputs": [],
   "source": []
  },
  {
   "cell_type": "code",
   "execution_count": null,
   "id": "4180136e",
   "metadata": {},
   "outputs": [],
   "source": []
  },
  {
   "cell_type": "code",
   "execution_count": null,
   "id": "43643ae9",
   "metadata": {},
   "outputs": [],
   "source": []
  },
  {
   "cell_type": "code",
   "execution_count": null,
   "id": "398f7d98",
   "metadata": {},
   "outputs": [],
   "source": []
  },
  {
   "cell_type": "code",
   "execution_count": null,
   "id": "0e7de775",
   "metadata": {},
   "outputs": [],
   "source": []
  }
 ],
 "metadata": {
  "kernelspec": {
   "display_name": "Python 3 (ipykernel)",
   "language": "python",
   "name": "python3"
  },
  "language_info": {
   "codemirror_mode": {
    "name": "ipython",
    "version": 3
   },
   "file_extension": ".py",
   "mimetype": "text/x-python",
   "name": "python",
   "nbconvert_exporter": "python",
   "pygments_lexer": "ipython3",
   "version": "3.9.12"
  }
 },
 "nbformat": 4,
 "nbformat_minor": 5
}
